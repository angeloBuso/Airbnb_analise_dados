{
  "nbformat": 4,
  "nbformat_minor": 0,
  "metadata": {
    "colab": {
      "name": "Dados do Airbnb.ipynb",
      "provenance": [],
      "collapsed_sections": [],
      "toc_visible": true,
      "include_colab_link": true
    },
    "kernelspec": {
      "name": "python3",
      "display_name": "Python 3"
    }
  },
  "cells": [
    {
      "cell_type": "markdown",
      "metadata": {
        "id": "view-in-github",
        "colab_type": "text"
      },
      "source": [
        "<a href=\"https://colab.research.google.com/github/angeloBuso/Airbnb_analise_dados/blob/main/Dados_do_Airbnb.ipynb\" target=\"_parent\"><img src=\"https://colab.research.google.com/assets/colab-badge.svg\" alt=\"Open In Colab\"/></a>"
      ]
    },
    {
      "cell_type": "markdown",
      "metadata": {
        "id": "kLI0gJtzDGuQ"
      },
      "source": [
        "<img alt=\"Imagem\" width=\"100%\" src=\"https://raw.githubusercontent.com/angeloBuso/angeloBuso/main/image/Imagem2-notebook.png\">\n",
        "\n",
        "---\n",
        "\n",
        "# Explorando dados do Airbnb para o *Rio de Janeiro*\n",
        "\n",
        "O [Airbnb](https://www.airbnb.com.br/d/howairbnbworks) é uma comunidade global de viagens, que permite encontrar acomodações para todos os tipos de viagens. Segundo a [Forbes](https://forbes.com.br/listas/2019/05/global-2000-os-maiores-grupos-hoteleiros-em-2019/) o Airbnb têm se revelado concorrente de peso aos **grandes grupos hoteleiros** e o detalhe é que o Airbnb **não possui nenhum hotel**!\n",
        "\n",
        "Usando *Plataforma* inovadora como serviço, conecta os seus *usuários* que querem viajar e necessitam de uma hospedagem, aos *anfitriões* que querem alugar seus imóveis de uma maneira prática e rápida. Sendo assim, o Airbnb viabiliza essa hospedagem alternativa, prática e rápida.\n",
        "\n",
        "<img alt=\"Analisando Airbnb\" width=\"10%\" src=\"https://www.area360.com.au/wp-content/uploads/2017/09/airbnb-logo.jpg\"> nasceu em 2007, quando dois anfitriões deram as boas-vindas a três hóspedes em sua casa em São Francisco (USA), e desde então cresceu para **4 milhões de anfitriões** que receberam mais de **800 milhões de visitantes** em quase todos os países do mundo até final de 2020, desafiando as redes *hoteleiras tradicionais*.\n",
        "\n",
        "Um dos pilares do Airbnb é a sua cultura aberta de dados (*open data*), disponibilizando os dados do site de algumas das principais cidades do mundo. Por meio do portal [Inside Airbnb](http://insideairbnb.com/get-the-data.html), é possível consultar, baixar e explorar uma grande quantidade de dados para desenvolver projetos e soluções de *Data Science*.\n",
        "\n",
        "**Neste *notebook*, iremos analisar os dados referentes à cidade Maravilhosa do Rio de Janeiro e ver quais insights podemos extrair a partir destes dados brutos.**\n",
        "\n",
        "<img alt=\"Imagem\" width=\"100%\" src=\"https://raw.githubusercontent.com/angeloBuso/Airbnb_analise_dados/main/image/agustin-diaz-gargiulo-7F65HDP0-E0-unsplash-1.png\">\n",
        "\n",
        "<span><font style=\"vertical-align: inherit;\"><font style=\"vertical-align: inherit;\">Foto de </font></font><a href=\"https://unsplash.com/@agustindiazg?utm_source=unsplash&amp;utm_medium=referral&amp;utm_content=creditCopyText\"><font style=\"vertical-align: inherit;\"><font style=\"vertical-align: inherit;\">Agustin Diaz Gargiulo</font></font></a><font style=\"vertical-align: inherit;\"></span>"
      ]
    },
    {
      "cell_type": "markdown",
      "metadata": {
        "id": "v5DK_bqUFZSc"
      },
      "source": [
        "## 1. Compreensão Problema de Negócio\r\n",
        "Usando a mentalidade de *open data* da Airbnb, extraindo um dataSet do repositório do Inside Airbnb, que trazem informações de **anúncios dos anfitriões**, gostaríamos de compreender alguns comportamentos como\r\n",
        "* Quais as principais formas de locação.\r\n",
        "* Quais bairros possuem maior oferta de hospedagem. \r\n",
        "* Desses bairros, qual valor médio da hospedagem.\r\n",
        "* Além de mapear qual a média de dias de hospedagem na Cidade Maravilhosa."
      ]
    },
    {
      "cell_type": "code",
      "metadata": {
        "id": "Vhp2wMPgJ6zX"
      },
      "source": [
        "# importar os pacotes necessarios para projeto\n",
        "import pandas as pd\n",
        "import seaborn as sns\n",
        "import matplotlib.pyplot as plt\n",
        "import numpy as np"
      ],
      "execution_count": 1,
      "outputs": []
    },
    {
      "cell_type": "markdown",
      "metadata": {
        "id": "0zxQHhIUDF_2"
      },
      "source": [
        "## 2. Obtenção dos Dados\n",
        "\n",
        "Os dados para a presente análise, foram extraídos do reposítório da [Inside Airbnb](https://http://insideairbnb.com/about.html). Um projeto independente e não comercial que compila os dados fornecidos pela plataforma do Airbnb, que permite transforma em informações e compreender como o Airbnb está sendo utilizado em cidades ao redor do mundo. O formato dos dados permite sua extração direto pelos links do site. Para o Brasil temos apenas as informações da cidade do Rio de Janeiro e a data de compilação foi de 26/01/2021 (última versão até a produção desta análise). Como alternativa os dados em formato `.csv` disponibilizei no repositório do [GitHub](https://raw.githubusercontent.com/angeloBuso/Airbnb_analise_dados/main/dataSet/airbnb_rj_26012021.csv), caso queiram replicar com o mesmo dataSet."
      ]
    },
    {
      "cell_type": "markdown",
      "metadata": {
        "id": "vdZd_XcKBvRc"
      },
      "source": [
        "### 2.1 Carga dos dados"
      ]
    },
    {
      "cell_type": "code",
      "metadata": {
        "id": "tUmoAT8DLQ5T"
      },
      "source": [
        "dados = \"http://data.insideairbnb.com/brazil/rj/rio-de-janeiro/2021-01-26/visualisations/listings.csv\"\n",
        "df = pd.read_csv(dados)"
      ],
      "execution_count": 2,
      "outputs": []
    },
    {
      "cell_type": "markdown",
      "metadata": {
        "id": "cgbHV99tFAWp"
      },
      "source": [
        "### 2.2 Dicionários dados\r\n",
        "Uma boa-prática é construir um dicionário de dados, com uma descrição do que cada variável representa.\r\n",
        "\r\n",
        "* `id` - Número de identificação gerado para o anúncio\r\n",
        "* `name` - Descrição do anúncio\r\n",
        "* `host_id` - Número de identificação do anfitrião (proprietário) do anúncio\r\n",
        "* `host_name` - Nome do anfitrião\r\n",
        "* `neighbourhood_group` - Região do bairro do anúncio\r\n",
        "* `neighbourhood` - Nome do bairro\r\n",
        "* `latitude` - Coordenada da latitude da propriedade\r\n",
        "* `longitude` - Coordenada da longitude da propriedade\r\n",
        "* `room_type` - Tipo de acomodação que é oferecida\r\n",
        "* `price` - Preço para alugar o imóvel\r\n",
        "* `minimum_nights` - Quantidade mínima de noites para reservar\r\n",
        "* `number_of_reviews` - Número de avaliações que a propriedade possui\r\n",
        "* `last_review` - Data da última avaliação\r\n",
        "* `reviews_per_month` - Quantidade de avaliações por mês\r\n",
        "* `calculated_host_listings_count` - Quantidade de anuncios diferentes do mesmo anfitrião\r\n",
        "* `availability_365` - Número de dias de disponibilidade dentro de 365 dias"
      ]
    },
    {
      "cell_type": "markdown",
      "metadata": {
        "id": "qb5By2nIMS6m"
      },
      "source": [
        "## 3. Análise Exploratória dos Dados\n",
        "\n",
        "Visão geral do dataSet que iremos realizar nossas análises"
      ]
    },
    {
      "cell_type": "code",
      "metadata": {
        "id": "2iS_dae7YQtO",
        "colab": {
          "base_uri": "https://localhost:8080/",
          "height": 838
        },
        "outputId": "ae82e112-be43-48e0-e2ad-9acbb2534221"
      },
      "source": [
        "df.head(10)"
      ],
      "execution_count": 3,
      "outputs": [
        {
          "output_type": "execute_result",
          "data": {
            "text/html": [
              "<div>\n",
              "<style scoped>\n",
              "    .dataframe tbody tr th:only-of-type {\n",
              "        vertical-align: middle;\n",
              "    }\n",
              "\n",
              "    .dataframe tbody tr th {\n",
              "        vertical-align: top;\n",
              "    }\n",
              "\n",
              "    .dataframe thead th {\n",
              "        text-align: right;\n",
              "    }\n",
              "</style>\n",
              "<table border=\"1\" class=\"dataframe\">\n",
              "  <thead>\n",
              "    <tr style=\"text-align: right;\">\n",
              "      <th></th>\n",
              "      <th>id</th>\n",
              "      <th>name</th>\n",
              "      <th>host_id</th>\n",
              "      <th>host_name</th>\n",
              "      <th>neighbourhood_group</th>\n",
              "      <th>neighbourhood</th>\n",
              "      <th>latitude</th>\n",
              "      <th>longitude</th>\n",
              "      <th>room_type</th>\n",
              "      <th>price</th>\n",
              "      <th>minimum_nights</th>\n",
              "      <th>number_of_reviews</th>\n",
              "      <th>last_review</th>\n",
              "      <th>reviews_per_month</th>\n",
              "      <th>calculated_host_listings_count</th>\n",
              "      <th>availability_365</th>\n",
              "    </tr>\n",
              "  </thead>\n",
              "  <tbody>\n",
              "    <tr>\n",
              "      <th>0</th>\n",
              "      <td>17878</td>\n",
              "      <td>Very Nice 2Br in Copacabana w. balcony, fast WiFi</td>\n",
              "      <td>68997</td>\n",
              "      <td>Matthias</td>\n",
              "      <td>NaN</td>\n",
              "      <td>Copacabana</td>\n",
              "      <td>-22.96592</td>\n",
              "      <td>-43.17896</td>\n",
              "      <td>Entire home/apt</td>\n",
              "      <td>201</td>\n",
              "      <td>5</td>\n",
              "      <td>258</td>\n",
              "      <td>2020-12-26</td>\n",
              "      <td>2.01</td>\n",
              "      <td>1</td>\n",
              "      <td>286</td>\n",
              "    </tr>\n",
              "    <tr>\n",
              "      <th>1</th>\n",
              "      <td>25026</td>\n",
              "      <td>Beautiful Modern Decorated Studio in Copa</td>\n",
              "      <td>3746246</td>\n",
              "      <td>Ghizlane</td>\n",
              "      <td>NaN</td>\n",
              "      <td>Copacabana</td>\n",
              "      <td>-22.97712</td>\n",
              "      <td>-43.19045</td>\n",
              "      <td>Entire home/apt</td>\n",
              "      <td>160</td>\n",
              "      <td>7</td>\n",
              "      <td>238</td>\n",
              "      <td>2020-02-15</td>\n",
              "      <td>1.84</td>\n",
              "      <td>11</td>\n",
              "      <td>357</td>\n",
              "    </tr>\n",
              "    <tr>\n",
              "      <th>2</th>\n",
              "      <td>35636</td>\n",
              "      <td>Cosy flat close to Ipanema beach</td>\n",
              "      <td>153232</td>\n",
              "      <td>Patricia</td>\n",
              "      <td>NaN</td>\n",
              "      <td>Ipanema</td>\n",
              "      <td>-22.98816</td>\n",
              "      <td>-43.19359</td>\n",
              "      <td>Entire home/apt</td>\n",
              "      <td>273</td>\n",
              "      <td>2</td>\n",
              "      <td>181</td>\n",
              "      <td>2020-03-15</td>\n",
              "      <td>2.05</td>\n",
              "      <td>1</td>\n",
              "      <td>300</td>\n",
              "    </tr>\n",
              "    <tr>\n",
              "      <th>3</th>\n",
              "      <td>35764</td>\n",
              "      <td>COPACABANA SEA BREEZE  -  RIO - 20 X Superhost</td>\n",
              "      <td>153691</td>\n",
              "      <td>Patricia Miranda &amp; Paulo</td>\n",
              "      <td>NaN</td>\n",
              "      <td>Copacabana</td>\n",
              "      <td>-22.98127</td>\n",
              "      <td>-43.19046</td>\n",
              "      <td>Entire home/apt</td>\n",
              "      <td>135</td>\n",
              "      <td>3</td>\n",
              "      <td>350</td>\n",
              "      <td>2021-01-24</td>\n",
              "      <td>2.79</td>\n",
              "      <td>1</td>\n",
              "      <td>84</td>\n",
              "    </tr>\n",
              "    <tr>\n",
              "      <th>4</th>\n",
              "      <td>41198</td>\n",
              "      <td>Modern 2bed,Top end of Copacabana</td>\n",
              "      <td>178975</td>\n",
              "      <td>Nicky</td>\n",
              "      <td>NaN</td>\n",
              "      <td>Copacabana</td>\n",
              "      <td>-22.97962</td>\n",
              "      <td>-43.19230</td>\n",
              "      <td>Entire home/apt</td>\n",
              "      <td>492</td>\n",
              "      <td>3</td>\n",
              "      <td>18</td>\n",
              "      <td>2016-02-09</td>\n",
              "      <td>0.19</td>\n",
              "      <td>2</td>\n",
              "      <td>365</td>\n",
              "    </tr>\n",
              "    <tr>\n",
              "      <th>5</th>\n",
              "      <td>48305</td>\n",
              "      <td>Beach Block 6bed Penthouse, Ipanema Best Locat...</td>\n",
              "      <td>70933</td>\n",
              "      <td>NaN</td>\n",
              "      <td>NaN</td>\n",
              "      <td>Ipanema</td>\n",
              "      <td>-22.98599</td>\n",
              "      <td>-43.20299</td>\n",
              "      <td>Entire home/apt</td>\n",
              "      <td>1752</td>\n",
              "      <td>2</td>\n",
              "      <td>77</td>\n",
              "      <td>2021-01-09</td>\n",
              "      <td>0.64</td>\n",
              "      <td>5</td>\n",
              "      <td>346</td>\n",
              "    </tr>\n",
              "    <tr>\n",
              "      <th>6</th>\n",
              "      <td>48726</td>\n",
              "      <td>Rio de Janeiro Copacabana Ipanema</td>\n",
              "      <td>221941</td>\n",
              "      <td>Vana</td>\n",
              "      <td>NaN</td>\n",
              "      <td>Ipanema</td>\n",
              "      <td>-22.98414</td>\n",
              "      <td>-43.19450</td>\n",
              "      <td>Private room</td>\n",
              "      <td>108</td>\n",
              "      <td>3</td>\n",
              "      <td>42</td>\n",
              "      <td>2019-08-08</td>\n",
              "      <td>1.07</td>\n",
              "      <td>1</td>\n",
              "      <td>90</td>\n",
              "    </tr>\n",
              "    <tr>\n",
              "      <th>7</th>\n",
              "      <td>48901</td>\n",
              "      <td>Confortable 4BD 3.5BT Atlantic avenue</td>\n",
              "      <td>222884</td>\n",
              "      <td>Marcio</td>\n",
              "      <td>NaN</td>\n",
              "      <td>Copacabana</td>\n",
              "      <td>-22.96574</td>\n",
              "      <td>-43.17514</td>\n",
              "      <td>Entire home/apt</td>\n",
              "      <td>587</td>\n",
              "      <td>4</td>\n",
              "      <td>4</td>\n",
              "      <td>2020-03-08</td>\n",
              "      <td>0.06</td>\n",
              "      <td>2</td>\n",
              "      <td>144</td>\n",
              "    </tr>\n",
              "    <tr>\n",
              "      <th>8</th>\n",
              "      <td>49179</td>\n",
              "      <td>Djalma Ocean View Studio with Amazing Views #100A</td>\n",
              "      <td>224192</td>\n",
              "      <td>David</td>\n",
              "      <td>NaN</td>\n",
              "      <td>Copacabana</td>\n",
              "      <td>-22.97910</td>\n",
              "      <td>-43.19008</td>\n",
              "      <td>Entire home/apt</td>\n",
              "      <td>156</td>\n",
              "      <td>3</td>\n",
              "      <td>92</td>\n",
              "      <td>2021-01-25</td>\n",
              "      <td>0.92</td>\n",
              "      <td>38</td>\n",
              "      <td>179</td>\n",
              "    </tr>\n",
              "    <tr>\n",
              "      <th>9</th>\n",
              "      <td>50294</td>\n",
              "      <td>Beach Block Suites in Ipanema Best Location</td>\n",
              "      <td>70933</td>\n",
              "      <td>NaN</td>\n",
              "      <td>NaN</td>\n",
              "      <td>Ipanema</td>\n",
              "      <td>-22.98584</td>\n",
              "      <td>-43.20305</td>\n",
              "      <td>Entire home/apt</td>\n",
              "      <td>654</td>\n",
              "      <td>3</td>\n",
              "      <td>73</td>\n",
              "      <td>2020-09-20</td>\n",
              "      <td>0.63</td>\n",
              "      <td>5</td>\n",
              "      <td>345</td>\n",
              "    </tr>\n",
              "  </tbody>\n",
              "</table>\n",
              "</div>"
            ],
            "text/plain": [
              "      id  ... availability_365\n",
              "0  17878  ...              286\n",
              "1  25026  ...              357\n",
              "2  35636  ...              300\n",
              "3  35764  ...               84\n",
              "4  41198  ...              365\n",
              "5  48305  ...              346\n",
              "6  48726  ...               90\n",
              "7  48901  ...              144\n",
              "8  49179  ...              179\n",
              "9  50294  ...              345\n",
              "\n",
              "[10 rows x 16 columns]"
            ]
          },
          "metadata": {
            "tags": []
          },
          "execution_count": 3
        }
      ]
    },
    {
      "cell_type": "markdown",
      "metadata": {
        "id": "6-B_qtEaYEd-"
      },
      "source": [
        "### 3.1 Visão descritiva do nosso dataSet\r\n",
        "\r\n",
        "Observando algumas informções sobre os dados identificamos quantos atributos/variáveis iremos trabalhar, bem como quantos registros possui nosso conjunto de dados. Uma informação importante é verificar quais os tipos das nossas variáveis, confirmar \"informação\" que a variável transmite condiz com sua representção. "
      ]
    },
    {
      "cell_type": "code",
      "metadata": {
        "id": "QFd0lOTGN8Az"
      },
      "source": [
        "def visaogeral(df, message):\r\n",
        "    print(f'{message}:\\n')\r\n",
        "    print(\"\\nQtd Atributos/Variáveis:\", df.shape[1])\r\n",
        "    print(\"\\nQtd Registros/Observações:\", df.shape[0])\r\n",
        "    print(\"\\nEm formato Tabular temos {} colunas e {} linhas.\"\\\r\n",
        "          .format(df.shape[1], df.shape[0]))     \r\n",
        "    print(\"\\nAtributos:\")\r\n",
        "    print(df.columns.tolist())\r\n",
        "    print(\"\\nQtd Valores missing:\", df.isnull().sum().values.sum())\r\n",
        "    print(\"\\nValores Únicos (Indicativo de var_Cat):\")\r\n",
        "    print(df.nunique())\r\n",
        "    print(\"\\nAtributos são do tipo:\")\r\n",
        "    print(df.dtypes)"
      ],
      "execution_count": 4,
      "outputs": []
    },
    {
      "cell_type": "code",
      "metadata": {
        "colab": {
          "base_uri": "https://localhost:8080/"
        },
        "id": "DjY-9CvzN_L8",
        "outputId": "dc0e0476-13cb-405e-8c8b-ce4bf9103bf7"
      },
      "source": [
        "visaogeral(df,\"Visão Geral do dataSet\")"
      ],
      "execution_count": 5,
      "outputs": [
        {
          "output_type": "stream",
          "text": [
            "Visão Geral do dataSet:\n",
            "\n",
            "\n",
            "Qtd Atributos/Variáveis: 16\n",
            "\n",
            "Qtd Registros/Observações: 26106\n",
            "\n",
            "Em formato Tabular temos 16 colunas e 26106 linhas.\n",
            "\n",
            "Atributos:\n",
            "['id', 'name', 'host_id', 'host_name', 'neighbourhood_group', 'neighbourhood', 'latitude', 'longitude', 'room_type', 'price', 'minimum_nights', 'number_of_reviews', 'last_review', 'reviews_per_month', 'calculated_host_listings_count', 'availability_365']\n",
            "\n",
            "Qtd Valores missing: 45434\n",
            "\n",
            "Valores Únicos (Indicativo de var_Cat):\n",
            "id                                26106\n",
            "name                              25411\n",
            "host_id                           17153\n",
            "host_name                          5107\n",
            "neighbourhood_group                   0\n",
            "neighbourhood                       151\n",
            "latitude                           9822\n",
            "longitude                         12184\n",
            "room_type                             4\n",
            "price                              1723\n",
            "minimum_nights                       67\n",
            "number_of_reviews                   272\n",
            "last_review                        1444\n",
            "reviews_per_month                   483\n",
            "calculated_host_listings_count       46\n",
            "availability_365                    366\n",
            "dtype: int64\n",
            "\n",
            "Atributos são do tipo:\n",
            "id                                  int64\n",
            "name                               object\n",
            "host_id                             int64\n",
            "host_name                          object\n",
            "neighbourhood_group               float64\n",
            "neighbourhood                      object\n",
            "latitude                          float64\n",
            "longitude                         float64\n",
            "room_type                          object\n",
            "price                               int64\n",
            "minimum_nights                      int64\n",
            "number_of_reviews                   int64\n",
            "last_review                        object\n",
            "reviews_per_month                 float64\n",
            "calculated_host_listings_count      int64\n",
            "availability_365                    int64\n",
            "dtype: object\n"
          ],
          "name": "stdout"
        }
      ]
    },
    {
      "cell_type": "markdown",
      "metadata": {
        "id": "3jl0ffm8HOxJ"
      },
      "source": [
        "Os dados possuem 16 variáveis (ou colunas), cerca de 26 mil registros. Observamos uma grande quantidade de valores faltantes, fato que será investigado melhor mais a frente. Neste dataSet encontramos valores categóricos (indicam classes - `object`) e valores numéricos.\r\n",
        "\r\n",
        "Vamos explorar esses dados!!!\r\n"
      ]
    },
    {
      "cell_type": "markdown",
      "metadata": {
        "id": "yz1urSUGW9iE"
      },
      "source": [
        "### 3.2 Investigar os valores ausentes\r\n",
        "\r\n",
        "A qualidade das análises em *Data Science* é proporcional a qualidade do dataSet. Que por sua vez tem relação com a quantidade de registros ausentes.\r\n",
        "Valores Missing, como são conhecidos, podem ter naturezas diversas, desde falhas de registros na origem dos dados, até a própria manipulação pelo cientista de dados.\r\n",
        "Não existe receita mágica para tratar valores missing, devemos observar o contexto dos dados e aplicar as melhores práticas de imputação."
      ]
    },
    {
      "cell_type": "markdown",
      "metadata": {
        "id": "0T5iFqu9RIXJ"
      },
      "source": [
        "Neste dataSet com dados do Airbnb da cidade do Rio de Janeiro, nota-se que a variável `neighbourhood_group` (vide 2.2 Dic. dados) está completamente sem informações."
      ]
    },
    {
      "cell_type": "code",
      "metadata": {
        "id": "plk2FjbCXOqP",
        "colab": {
          "base_uri": "https://localhost:8080/"
        },
        "outputId": "84d788c6-1697-4c5d-b0fc-2228bf9b5788"
      },
      "source": [
        "(df.isnull().sum()).sort_values(ascending = False)"
      ],
      "execution_count": 6,
      "outputs": [
        {
          "output_type": "execute_result",
          "data": {
            "text/plain": [
              "neighbourhood_group               26106\n",
              "reviews_per_month                  9641\n",
              "last_review                        9641\n",
              "name                                 29\n",
              "host_name                            17\n",
              "availability_365                      0\n",
              "calculated_host_listings_count        0\n",
              "number_of_reviews                     0\n",
              "minimum_nights                        0\n",
              "price                                 0\n",
              "room_type                             0\n",
              "longitude                             0\n",
              "latitude                              0\n",
              "neighbourhood                         0\n",
              "host_id                               0\n",
              "id                                    0\n",
              "dtype: int64"
            ]
          },
          "metadata": {
            "tags": []
          },
          "execution_count": 6
        }
      ]
    },
    {
      "cell_type": "markdown",
      "metadata": {
        "id": "_DGySImLSVd-"
      },
      "source": [
        "Em proporção com o total de registros, o percentual de valores ausentes para cada atributo é apresentado abaixo."
      ]
    },
    {
      "cell_type": "code",
      "metadata": {
        "colab": {
          "base_uri": "https://localhost:8080/"
        },
        "id": "JyxOkxDoV_4f",
        "outputId": "73ae2efd-34dd-4878-e6be-26654cb62b24"
      },
      "source": [
        "(df.isnull().sum()/df.shape[0]*100).sort_values(ascending = False)"
      ],
      "execution_count": 7,
      "outputs": [
        {
          "output_type": "execute_result",
          "data": {
            "text/plain": [
              "neighbourhood_group               100.000000\n",
              "reviews_per_month                  36.930208\n",
              "last_review                        36.930208\n",
              "name                                0.111086\n",
              "host_name                           0.065119\n",
              "availability_365                    0.000000\n",
              "calculated_host_listings_count      0.000000\n",
              "number_of_reviews                   0.000000\n",
              "minimum_nights                      0.000000\n",
              "price                               0.000000\n",
              "room_type                           0.000000\n",
              "longitude                           0.000000\n",
              "latitude                            0.000000\n",
              "neighbourhood                       0.000000\n",
              "host_id                             0.000000\n",
              "id                                  0.000000\n",
              "dtype: float64"
            ]
          },
          "metadata": {
            "tags": []
          },
          "execution_count": 7
        }
      ]
    },
    {
      "cell_type": "markdown",
      "metadata": {
        "id": "iHXvvHIxaoNc"
      },
      "source": [
        "### 3.3 Distribuição dos dados nas variáveis \r\n",
        "\r\n",
        "Cada variável/coluna numérica possui um conjunto de informações, que são seus registros, o que aquela coluna representa. Usando uma das ferramentas visuais da estatística descritiva, os histogramas, conseguimos identificar a forma como estão distribuidos as frequências dos dados em cada atributo numérico. Sendo assim, é possível identificar possíveis *outlier's*, que distorcem a realidade dos dados, valores que tendem a distribuição ao extremo."
      ]
    },
    {
      "cell_type": "code",
      "metadata": {
        "colab": {
          "base_uri": "https://localhost:8080/",
          "height": 662
        },
        "id": "tmcz-zdsdIRC",
        "outputId": "35b315bb-ba78-49d5-dbe6-2c876328e847"
      },
      "source": [
        "plt.rcParams[\"figure.figsize\"] = (18,11)\r\n",
        "df.hist();"
      ],
      "execution_count": 8,
      "outputs": [
        {
          "output_type": "display_data",
          "data": {
            "image/png": "[encoded data removed]",
            "text/plain": [
              "<Figure size 1296x792 with 12 Axes>"
            ]
          },
          "metadata": {
            "tags": [],
            "needs_background": "light"
          }
        }
      ]
    },
    {
      "cell_type": "markdown",
      "metadata": {
        "id": "SIR5R5SlZIPc"
      },
      "source": [
        "Entretanto não são todas as colunas/atributos numéricos que nos interessa nessa análise. Abaixo é apresentado apenas as variáveis que iremos focar, colocar uma lupa!!"
      ]
    },
    {
      "cell_type": "code",
      "metadata": {
        "id": "7rL5mtpFZ7g7"
      },
      "source": [
        "# df[['price', 'minimum_nights', 'number_of_reviews',\r\n",
        "#              'reviews_per_month','calculated_host_listings_count',\r\n",
        "#              'availability_365']].hist();"
      ],
      "execution_count": 9,
      "outputs": []
    },
    {
      "cell_type": "code",
      "metadata": {
        "id": "q2wWSfeRbmBo",
        "colab": {
          "base_uri": "https://localhost:8080/",
          "height": 173
        },
        "outputId": "48259f33-b9f5-4259-ddc4-9d1197b8955d"
      },
      "source": [
        "plt.rcParams[\"figure.figsize\"] = (8,2)\n",
        "df[['price', 'minimum_nights']].hist();"
      ],
      "execution_count": 10,
      "outputs": [
        {
          "output_type": "display_data",
          "data": {
            "image/png": "[encoded data removed]",
            "text/plain": [
              "<Figure size 576x144 with 2 Axes>"
            ]
          },
          "metadata": {
            "tags": [],
            "needs_background": "light"
          }
        }
      ]
    },
    {
      "cell_type": "markdown",
      "metadata": {
        "id": "eyU-0X2pZjMl"
      },
      "source": [
        "A distribuição nos histogramas das variáveis `price` e  `minimum_nights`, mostram indícios de valores conhecidos como *outlier's*, que distorcem a realidade das nossas informações e acarreta decisões enviesadas. Os valores no eixo horizontal de cada histograma, apontam que foram identificadas observações nesses intervalos, ou seja, para atributo `price` valores estão distribuídos entre 0 e 600.000. E para o atributo `minimum_nights` valores entre 0 e 1.000.\r\n",
        "\r\n",
        "Visualizando um resumo estatístico descritivos, poderemos verificar."
      ]
    },
    {
      "cell_type": "code",
      "metadata": {
        "colab": {
          "base_uri": "https://localhost:8080/",
          "height": 111
        },
        "id": "oT9xrEh3BBJQ",
        "outputId": "d797cb5d-8d73-49b6-a746-8321c6c62c0d"
      },
      "source": [
        "round(df[['price', 'minimum_nights']].describe().transpose(),1)"
      ],
      "execution_count": 11,
      "outputs": [
        {
          "output_type": "execute_result",
          "data": {
            "text/html": [
              "<div>\n",
              "<style scoped>\n",
              "    .dataframe tbody tr th:only-of-type {\n",
              "        vertical-align: middle;\n",
              "    }\n",
              "\n",
              "    .dataframe tbody tr th {\n",
              "        vertical-align: top;\n",
              "    }\n",
              "\n",
              "    .dataframe thead th {\n",
              "        text-align: right;\n",
              "    }\n",
              "</style>\n",
              "<table border=\"1\" class=\"dataframe\">\n",
              "  <thead>\n",
              "    <tr style=\"text-align: right;\">\n",
              "      <th></th>\n",
              "      <th>count</th>\n",
              "      <th>mean</th>\n",
              "      <th>std</th>\n",
              "      <th>min</th>\n",
              "      <th>25%</th>\n",
              "      <th>50%</th>\n",
              "      <th>75%</th>\n",
              "      <th>max</th>\n",
              "    </tr>\n",
              "  </thead>\n",
              "  <tbody>\n",
              "    <tr>\n",
              "      <th>price</th>\n",
              "      <td>26106.0</td>\n",
              "      <td>730.8</td>\n",
              "      <td>5149.4</td>\n",
              "      <td>0.0</td>\n",
              "      <td>160.0</td>\n",
              "      <td>294.0</td>\n",
              "      <td>591.0</td>\n",
              "      <td>626623.0</td>\n",
              "    </tr>\n",
              "    <tr>\n",
              "      <th>minimum_nights</th>\n",
              "      <td>26106.0</td>\n",
              "      <td>4.8</td>\n",
              "      <td>20.2</td>\n",
              "      <td>1.0</td>\n",
              "      <td>1.0</td>\n",
              "      <td>2.0</td>\n",
              "      <td>4.0</td>\n",
              "      <td>1111.0</td>\n",
              "    </tr>\n",
              "  </tbody>\n",
              "</table>\n",
              "</div>"
            ],
            "text/plain": [
              "                  count   mean     std  min    25%    50%    75%       max\n",
              "price           26106.0  730.8  5149.4  0.0  160.0  294.0  591.0  626623.0\n",
              "minimum_nights  26106.0    4.8    20.2  1.0    1.0    2.0    4.0    1111.0"
            ]
          },
          "metadata": {
            "tags": []
          },
          "execution_count": 11
        }
      ]
    },
    {
      "cell_type": "markdown",
      "metadata": {
        "id": "9IYeAGMsa5aw"
      },
      "source": [
        "#### 3.3.1 Análise variável -Preço-\r\n",
        "O resumo estatístico da variável `price` informa que a média do preço é de 730,80 com um desvio padrão de 5.149,40. Em relação a média o valor do desvio padrão é bastante alto, pois o desvio padrão mensura o quão distantes os pontos estão da média dos dados. Um outro indicativo é que 75% dos dados estão entre o valor mínimo 0,00 e 591,00. Por fim, o valor máximo observado no atributo é de 626.623,00. Indicando que provavelmente esse atributo possuem valores considerados *outlier's*.\r\n",
        "\r\n",
        "**Mais a pergunta é, quantos e quais valores foram considerados outlier's?**\r\n",
        "\r\n",
        "Usando outra ferramenta visual da estatística descritiva, boxplot's, podemos responder tal indagação.\r\n",
        "Mas antes, iremos assumir uma **premissa** de que qualquer valor do atributo `price` que for $ 2 * (media 730.8) = 1.461,60 $ será considerado um *outlier*.\r\n",
        "\r\n",
        "**Importante:** premissas assumidas ao longo da análise de *Data Science* diz respeito ao contexto em que seus dados estão, ou seja, cada *data scientist* assumirá suas premissas e tomará suas decisão com base em seus *background* e conhecimento das regras de negócios, que cada problema exige."
      ]
    },
    {
      "cell_type": "code",
      "metadata": {
        "colab": {
          "base_uri": "https://localhost:8080/",
          "height": 262
        },
        "id": "u3hwOEDEHLuE",
        "outputId": "389136a5-23fe-4974-e8ea-2d7752a30a6b"
      },
      "source": [
        "outlier = 1461.60\r\n",
        "\r\n",
        "plt.rcParams[\"figure.figsize\"] = (15,3)\r\n",
        "df.price.plot(kind = \"box\", vert = False)\r\n",
        "plt.show()\r\n",
        "\r\n",
        "print(\"A quantidade de registros com preço acima de R$ {} são:\".format(outlier))\r\n",
        "print(\"{} registros\".format(len(df[df.price > outlier])))\r\n",
        "print(\"representa {}%\".format((len(df[df.price > outlier]) / df.shape[0])*100))"
      ],
      "execution_count": 12,
      "outputs": [
        {
          "output_type": "display_data",
          "data": {
            "image/png": "[encoded data removed]",
            "text/plain": [
              "<Figure size 1080x216 with 1 Axes>"
            ]
          },
          "metadata": {
            "tags": [],
            "needs_background": "light"
          }
        },
        {
          "output_type": "stream",
          "text": [
            "A quantidade de registros com preço acima de R$ 1461.6 são:\n",
            "2097 registros\n",
            "representa 8.032636175591817%\n"
          ],
          "name": "stdout"
        }
      ]
    },
    {
      "cell_type": "markdown",
      "metadata": {
        "id": "KOsgy324hqCL"
      },
      "source": [
        "#### 3.3.2  Análise variável -Mínimo Estadias-\r\n",
        "\r\n",
        "O resumo estatístico da variável `minimum_nights` informa que a média de quantidades mínimas de estadias são de aproximadamente 5 dias com um desvio padrão de 20 dias. Os dados estão com um desvio padrão relativamente alto do ponto médio dos dados. Temos que a período máximo de estadias observadas na variável, foi de 1.111 dias, que corresponde há um **pouco mais de 3 anos.?!?!?**. Ainda nota-se que 75% dos dados encontram-se entre o valor mínimo de 1 dia à 4 dias. O que indica que no atributo há valores considerados *outlier's*.\r\n",
        "\r\n",
        "Usaremos a mesma abordagem da variável preço. Assumiremos como **premissa** que valores **acima de 30 dias** de quantidade mínima de hospedagem, será considerado um *outlier*!"
      ]
    },
    {
      "cell_type": "code",
      "metadata": {
        "colab": {
          "base_uri": "https://localhost:8080/",
          "height": 262
        },
        "id": "7KNOm870Bo8T",
        "outputId": "86daedd3-a8ef-4c9e-c0e7-53fb758ab77a"
      },
      "source": [
        "df.minimum_nights.plot(kind = 'box', vert = False)\r\n",
        "plt.show()\r\n",
        "\r\n",
        "# ver quantidade de valores acima de 30 dias\r\n",
        "print(\"A quantidade mínima de dias por estadia, com valores acima de 30 dias são: \")\r\n",
        "print(\"{} registros\".format(len(df[df.minimum_nights > 30])))\r\n",
        "print(\"representam {:.4f}% de registros do dataSet\".format((len(df[df.minimum_nights >30]) / df.shape[0]) *100))"
      ],
      "execution_count": 13,
      "outputs": [
        {
          "output_type": "display_data",
          "data": {
            "image/png": "[encoded data removed]",
            "text/plain": [
              "<Figure size 1080x216 with 1 Axes>"
            ]
          },
          "metadata": {
            "tags": [],
            "needs_background": "light"
          }
        },
        {
          "output_type": "stream",
          "text": [
            "A quantidade mínima de dias por estadia, com valores acima de 30 dias são: \n",
            "197 registros\n",
            "representam 0.7546% de registros do dataSet\n"
          ],
          "name": "stdout"
        }
      ]
    },
    {
      "cell_type": "markdown",
      "metadata": {
        "id": "TI2VusnfL8Zb"
      },
      "source": [
        "## 4. Pré Processamento dos dados\r\n",
        "Nesta etapa realizaremos *Feature engineer*, ou seja, engenharia de atributos. Após um processo de exploração nos dados, identificando como estão as distribuições dos dados nos atributos, as quantidades de valores ausentes, entre outras, podemos coletar informações que nos ajudarão a decidir que passos realizaremos para pré-processar os dados.\r\n",
        "\r\n",
        "As premissas apontadas para a indicação dos pontos de corte para identificar os valroes que distorcem a realidade dos dados (*outlier's*), mostraram-se assertivas. Tais valores possuem uma representação pequena no conjunto de dados e sua exclusão permitirá regularizar as possíveis distorções ocasionadas.\r\n",
        "\r\n",
        "Uma terceira premissa que iremos assumir é remover, do dataSet, a variável `neighbourhood_group` que possui 100% de valores missing, apenas como forma de reduzir a dimensionalidade dos dados. Como o objetivo desse *jupyter* é apenas explorar as variáveis `price` e `minimum_nights`, os demais atributos que possuem valores ausentes serão preservados.\r\n"
      ]
    },
    {
      "cell_type": "markdown",
      "metadata": {
        "id": "cuc2p0tCn5gL"
      },
      "source": [
        "### 4.1 Limpeza nos dados\r\n",
        "Como boa prática, manteremos o dataSet original preservado. Iremos copiar o dataSet original e remover os registros dos atributos `price` e `minimum_nights` que foram considerados *outlier's*."
      ]
    },
    {
      "cell_type": "code",
      "metadata": {
        "id": "DRKbyZz7LxWQ"
      },
      "source": [
        "df_etl = df.copy()\r\n",
        "df_etl.drop(df_etl[df_etl.price > outlier].index, axis= 0, inplace= True)\r\n",
        "df_etl.drop(df_etl[df_etl.minimum_nights > 30].index, axis= 0, inplace= True)"
      ],
      "execution_count": 14,
      "outputs": []
    },
    {
      "cell_type": "code",
      "metadata": {
        "colab": {
          "base_uri": "https://localhost:8080/"
        },
        "id": "2NOTbRTcLxN7",
        "outputId": "97c03bcb-7ddf-4e65-9131-7870dd6be8c7"
      },
      "source": [
        "print(\"DataSet original::\\t\", df.shape)\r\n",
        "print(\"DataSet limpo:\\t\\t\", df_etl.shape)"
      ],
      "execution_count": 15,
      "outputs": [
        {
          "output_type": "stream",
          "text": [
            "DataSet original::\t (26106, 16)\n",
            "DataSet limpo:\t\t (23836, 16)\n"
          ],
          "name": "stdout"
        }
      ]
    },
    {
      "cell_type": "code",
      "metadata": {
        "id": "19-UlNUPO3jA"
      },
      "source": [
        "# eliminando coluna vazia\r\n",
        "df_etl.drop('neighbourhood_group', axis=1, inplace= True)"
      ],
      "execution_count": 16,
      "outputs": []
    },
    {
      "cell_type": "code",
      "metadata": {
        "colab": {
          "base_uri": "https://localhost:8080/"
        },
        "id": "oX0CVcDoO3WG",
        "outputId": "390fd44a-0705-4188-9a39-dcc0e2fd59d7"
      },
      "source": [
        "print(\"DataSet original:\\t\", df.shape)\r\n",
        "print(\"DataSet limpo:\\t\\t\", df_etl.shape)"
      ],
      "execution_count": 17,
      "outputs": [
        {
          "output_type": "stream",
          "text": [
            "DataSet original:\t (26106, 16)\n",
            "DataSet limpo:\t\t (23836, 15)\n"
          ],
          "name": "stdout"
        }
      ]
    },
    {
      "cell_type": "markdown",
      "metadata": {
        "id": "bRa-bXLso0iY"
      },
      "source": [
        "-----\r\n",
        "Após o processo de limpeza dos dados, a distribuição nas frequências dos dados ficaram mais claras !!"
      ]
    },
    {
      "cell_type": "code",
      "metadata": {
        "colab": {
          "base_uri": "https://localhost:8080/",
          "height": 173
        },
        "id": "GO43HxvWPQrU",
        "outputId": "bf045e51-e4a5-4239-d393-c38796b16443"
      },
      "source": [
        "plt.rcParams[\"figure.figsize\"] = (8,2)\r\n",
        "df_etl[['price', 'minimum_nights']].hist(bins=15);"
      ],
      "execution_count": 18,
      "outputs": [
        {
          "output_type": "display_data",
          "data": {
            "image/png": "[encoded data removed]",
            "text/plain": [
              "<Figure size 576x144 with 2 Axes>"
            ]
          },
          "metadata": {
            "tags": [],
            "needs_background": "light"
          }
        }
      ]
    },
    {
      "cell_type": "markdown",
      "metadata": {
        "id": "7x4aw1j5wNmn"
      },
      "source": [
        "### 4.2 Análise dos dados"
      ]
    },
    {
      "cell_type": "markdown",
      "metadata": {
        "id": "JjrxVOQPqq1L"
      },
      "source": [
        "#### 4.2.1 Média dos preços das diárias ofertadas\r\n",
        "\r\n",
        "Com dataSet sem a distorção dos *outlier's*, identificamos que a média das diárias anunciada para a cidade do Rio de Janeiro, até a ultima compilação (em 26/01/2021) é de 363,80."
      ]
    },
    {
      "cell_type": "code",
      "metadata": {
        "id": "ff-8gUahLk-C",
        "colab": {
          "base_uri": "https://localhost:8080/"
        },
        "outputId": "f5274898-0c11-4180-90a4-d22ff9744f46"
      },
      "source": [
        "df_etl.price.describe()"
      ],
      "execution_count": 19,
      "outputs": [
        {
          "output_type": "execute_result",
          "data": {
            "text/plain": [
              "count    23836.000000\n",
              "mean       363.807854\n",
              "std        293.154334\n",
              "min          0.000000\n",
              "25%        150.000000\n",
              "50%        260.000000\n",
              "75%        488.000000\n",
              "max       1460.000000\n",
              "Name: price, dtype: float64"
            ]
          },
          "metadata": {
            "tags": []
          },
          "execution_count": 19
        }
      ]
    },
    {
      "cell_type": "code",
      "metadata": {
        "colab": {
          "base_uri": "https://localhost:8080/",
          "height": 242
        },
        "id": "RpK_UuUmPqJS",
        "outputId": "618807c5-55e0-4f1e-bdda-38cfacdaa3a4"
      },
      "source": [
        "fig, ax = plt.subplots(nrows= 1, ncols= 2, figsize= (8,3))\r\n",
        "\r\n",
        "df_etl.boxplot('price', ax= ax[0], vert= False)\r\n",
        "ax[0].set_title('Preço médio diárias')\r\n",
        "\r\n",
        "ax[1].hist('price', data= df_etl)\r\n",
        "ax[1].set_title('Preço médio diárias')\r\n",
        "\r\n",
        "plt.tight_layout()\r\n",
        "print('O preço médio das diárias é de R${}. '\\\r\n",
        "      .format(round(df_etl.price.mean(), 2)))"
      ],
      "execution_count": 20,
      "outputs": [
        {
          "output_type": "stream",
          "text": [
            "O preço médio das diárias é de R$363.81. \n"
          ],
          "name": "stdout"
        },
        {
          "output_type": "display_data",
          "data": {
            "image/png": "[encoded data removed]",
            "text/plain": [
              "<Figure size 576x216 with 2 Axes>"
            ]
          },
          "metadata": {
            "tags": [],
            "needs_background": "light"
          }
        }
      ]
    },
    {
      "cell_type": "markdown",
      "metadata": {
        "id": "y0iARd4CrLh6"
      },
      "source": [
        "Interessante ressaltar que mesmo retirando do dataSet os registros considerados como *outlier* para o preço da diária, o boxplot considerou que valores superiores a 1000.00 foram considerados como outlier's.\r\n",
        "\r\n",
        "\r\n",
        "---\r\n",
        "\r\n"
      ]
    },
    {
      "cell_type": "markdown",
      "metadata": {
        "id": "vTneAMRUYvr1"
      },
      "source": [
        "#### 4.2.2 Média do mínimo de noites para aluguel\r\n",
        "Identificamos que a média das quantidades mínimas das diárias anunciada, até a ultima compilação (em 26/01/2021), é cerca de 3 noites na Cidade Maravilhosa."
      ]
    },
    {
      "cell_type": "code",
      "metadata": {
        "colab": {
          "base_uri": "https://localhost:8080/"
        },
        "id": "1D4o6yLyxRwz",
        "outputId": "8777e953-9e63-4c80-edf9-535c87e09ce9"
      },
      "source": [
        "df_etl.minimum_nights.describe()"
      ],
      "execution_count": 21,
      "outputs": [
        {
          "output_type": "execute_result",
          "data": {
            "text/plain": [
              "count    23836.000000\n",
              "mean         3.454397\n",
              "std          4.139661\n",
              "min          1.000000\n",
              "25%          1.000000\n",
              "50%          2.000000\n",
              "75%          4.000000\n",
              "max         30.000000\n",
              "Name: minimum_nights, dtype: float64"
            ]
          },
          "metadata": {
            "tags": []
          },
          "execution_count": 21
        }
      ]
    },
    {
      "cell_type": "code",
      "metadata": {
        "id": "_VzNhrEgY82N",
        "colab": {
          "base_uri": "https://localhost:8080/",
          "height": 242
        },
        "outputId": "be783330-3abd-476d-88c9-a640796bb656"
      },
      "source": [
        "fig, ax = plt.subplots(nrows= 1, ncols= 2, figsize= (8,3))\r\n",
        "\r\n",
        "df_etl.boxplot('minimum_nights', ax= ax[0], vert= False)\r\n",
        "ax[0].set_title('Quantidades de diárias mínimas')\r\n",
        "\r\n",
        "ax[1].hist('minimum_nights', data= df_etl, bins= 15)\r\n",
        "ax[1].set_title('Quantidades de diárias mínimas')\r\n",
        "\r\n",
        "plt.tight_layout()\r\n",
        "print('A média de quantidades mínimas para loação é de {} noites.'\\\r\n",
        "      .format(round(df_etl.minimum_nights.mean(), 0)))"
      ],
      "execution_count": 22,
      "outputs": [
        {
          "output_type": "stream",
          "text": [
            "A média de quantidades mínimas para loação é de 3.0 noites.\n"
          ],
          "name": "stdout"
        },
        {
          "output_type": "display_data",
          "data": {
            "image/png": "[encoded data removed]",
            "text/plain": [
              "<Figure size 576x216 with 2 Axes>"
            ]
          },
          "metadata": {
            "tags": [],
            "needs_background": "light"
          }
        }
      ]
    },
    {
      "cell_type": "markdown",
      "metadata": {
        "id": "sJJ6SNh83xts"
      },
      "source": [
        "Mesmo padrão já observado, a ferramenta de boxplot considerou que valores superiores a 8 dias já poderão ser considerados *outlier's*.\r\n",
        "\r\n",
        "\r\n",
        "---"
      ]
    },
    {
      "cell_type": "markdown",
      "metadata": {
        "id": "7b6RMWpuHKN-"
      },
      "source": [
        "#### 4.2.3 Tipos de imóvel mais alugado no Airbnb\r\n",
        "Uma das facilidades que atraem tanto os usuários como os anfitriões para a plataforma do Airbnb é a possibilidade de se aluguar um apartamento/casa inteira, ou fracionar os quartos desses imóveis. Bem como compartilhar quartos!!!\r\n",
        "\r\n",
        "Desse dataSet do Rio de Janeiro iremos identificar quais são os principais tipos de locação ofertada, dentre as opções disponíveis, que são:\r\n",
        "* `Entire home/apt`: casa ou apartamento inteiro (toda a infraestrutura do imóvel).\r\n",
        "* `Private room`: apenas quarto, de forma individual.\r\n",
        "* `Shared room`: apenas quarto, no entanto compartilhado.\r\n",
        "* `Hotel room`: quarto em um Hotel."
      ]
    },
    {
      "cell_type": "code",
      "metadata": {
        "id": "ueLPNWvPHgfB",
        "colab": {
          "base_uri": "https://localhost:8080/"
        },
        "outputId": "6a11aee7-9c22-4f27-ce78-0d695db3b3b4"
      },
      "source": [
        "df_etl.room_type.value_counts()"
      ],
      "execution_count": 23,
      "outputs": [
        {
          "output_type": "execute_result",
          "data": {
            "text/plain": [
              "Entire home/apt    16821\n",
              "Private room        6325\n",
              "Shared room          585\n",
              "Hotel room           105\n",
              "Name: room_type, dtype: int64"
            ]
          },
          "metadata": {
            "tags": []
          },
          "execution_count": 23
        }
      ]
    },
    {
      "cell_type": "markdown",
      "metadata": {
        "id": "ki1ntn4Y7PR5"
      },
      "source": [
        "Em percentual do total de anúncios, observa-se que 70% dos anúncios referem-se a **locação de todo o imóvel**. Hotéis tem experimentado anunciar no Airbnb, muito embora sem nenhuma expressividade na quantidade total de anúncios (menos de 1%)."
      ]
    },
    {
      "cell_type": "code",
      "metadata": {
        "id": "EvwoO-XAHhIm",
        "colab": {
          "base_uri": "https://localhost:8080/"
        },
        "outputId": "174cfd79-88db-4b7a-852d-e6bf3ce94ef6"
      },
      "source": [
        "(df_etl.room_type.value_counts() / df_etl.shape[0]) * 100"
      ],
      "execution_count": 24,
      "outputs": [
        {
          "output_type": "execute_result",
          "data": {
            "text/plain": [
              "Entire home/apt    70.569726\n",
              "Private room       26.535493\n",
              "Shared room         2.454271\n",
              "Hotel room          0.440510\n",
              "Name: room_type, dtype: float64"
            ]
          },
          "metadata": {
            "tags": []
          },
          "execution_count": 24
        }
      ]
    },
    {
      "cell_type": "code",
      "metadata": {
        "id": "DDvk41CBqm96"
      },
      "source": [
        "# sns.countplot(df_etl['room_type'])"
      ],
      "execution_count": 25,
      "outputs": []
    },
    {
      "cell_type": "markdown",
      "metadata": {
        "id": "MFa5NbnLJMcd"
      },
      "source": [
        "#### 4.2.4 Bairro mais caro para se hospedar\n",
        "\n",
        "Podemos separar os dados por bairros, com a finalidade de descobrir qual bairro possui em média, o valor mais alto da diária.\n",
        "\n",
        "Vamos descobrir???\n",
        "\n",
        "A princípios temos uma pré-concepção que os bairros famosos das **novelas das 9** daquele canal de TV, como o **Leblon**, **Copacabana**, **Ipanema** serão os mais caros para se hospedar... afinal podemos encontrar um **famoso** né!... vamos validar essa hipótese??"
      ]
    },
    {
      "cell_type": "code",
      "metadata": {
        "colab": {
          "base_uri": "https://localhost:8080/"
        },
        "id": "43vAb_aB8x3J",
        "outputId": "78e1c656-0534-414d-cf05-8edc94618b37"
      },
      "source": [
        "print(\"Os dados possuem ofertas em {} bairros do Rio de Janeiro.\".format\\\r\n",
        "      (len(df_etl.neighbourhood.unique())))"
      ],
      "execution_count": 26,
      "outputs": [
        {
          "output_type": "stream",
          "text": [
            "Os dados possuem ofertas em 150 bairros do Rio de Janeiro.\n"
          ],
          "name": "stdout"
        }
      ]
    },
    {
      "cell_type": "markdown",
      "metadata": {
        "id": "YJYvcKNS-mA6"
      },
      "source": [
        "**E o mais caro são os:**"
      ]
    },
    {
      "cell_type": "code",
      "metadata": {
        "id": "MD_xa143JZpi",
        "colab": {
          "base_uri": "https://localhost:8080/",
          "height": 450
        },
        "outputId": "82d0e177-9c23-4aa2-97b7-2333bc4b1255"
      },
      "source": [
        "df_etl.pivot_table(['price'], ['neighbourhood'],\n",
        "                   aggfunc= 'mean').sort_values(by= 'price' ,ascending = False)\n",
        "# df_etl.groupby(['neighbourhood']).price.mean().sort_values(ascending = False)"
      ],
      "execution_count": 27,
      "outputs": [
        {
          "output_type": "execute_result",
          "data": {
            "text/html": [
              "<div>\n",
              "<style scoped>\n",
              "    .dataframe tbody tr th:only-of-type {\n",
              "        vertical-align: middle;\n",
              "    }\n",
              "\n",
              "    .dataframe tbody tr th {\n",
              "        vertical-align: top;\n",
              "    }\n",
              "\n",
              "    .dataframe thead th {\n",
              "        text-align: right;\n",
              "    }\n",
              "</style>\n",
              "<table border=\"1\" class=\"dataframe\">\n",
              "  <thead>\n",
              "    <tr style=\"text-align: right;\">\n",
              "      <th></th>\n",
              "      <th>price</th>\n",
              "    </tr>\n",
              "    <tr>\n",
              "      <th>neighbourhood</th>\n",
              "      <th></th>\n",
              "    </tr>\n",
              "  </thead>\n",
              "  <tbody>\n",
              "    <tr>\n",
              "      <th>Vista Alegre</th>\n",
              "      <td>1304.000000</td>\n",
              "    </tr>\n",
              "    <tr>\n",
              "      <th>Vaz Lobo</th>\n",
              "      <td>822.000000</td>\n",
              "    </tr>\n",
              "    <tr>\n",
              "      <th>Anchieta</th>\n",
              "      <td>800.000000</td>\n",
              "    </tr>\n",
              "    <tr>\n",
              "      <th>Freguesia (Ilha)</th>\n",
              "      <td>747.000000</td>\n",
              "    </tr>\n",
              "    <tr>\n",
              "      <th>Osvaldo Cruz</th>\n",
              "      <td>610.000000</td>\n",
              "    </tr>\n",
              "    <tr>\n",
              "      <th>...</th>\n",
              "      <td>...</td>\n",
              "    </tr>\n",
              "    <tr>\n",
              "      <th>Coelho Neto</th>\n",
              "      <td>88.800000</td>\n",
              "    </tr>\n",
              "    <tr>\n",
              "      <th>Parque Anchieta</th>\n",
              "      <td>88.750000</td>\n",
              "    </tr>\n",
              "    <tr>\n",
              "      <th>Bonsucesso</th>\n",
              "      <td>84.500000</td>\n",
              "    </tr>\n",
              "    <tr>\n",
              "      <th>Senador Vasconcelos</th>\n",
              "      <td>84.500000</td>\n",
              "    </tr>\n",
              "    <tr>\n",
              "      <th>Galeão</th>\n",
              "      <td>82.333333</td>\n",
              "    </tr>\n",
              "  </tbody>\n",
              "</table>\n",
              "<p>150 rows × 1 columns</p>\n",
              "</div>"
            ],
            "text/plain": [
              "                           price\n",
              "neighbourhood                   \n",
              "Vista Alegre         1304.000000\n",
              "Vaz Lobo              822.000000\n",
              "Anchieta              800.000000\n",
              "Freguesia (Ilha)      747.000000\n",
              "Osvaldo Cruz          610.000000\n",
              "...                          ...\n",
              "Coelho Neto            88.800000\n",
              "Parque Anchieta        88.750000\n",
              "Bonsucesso             84.500000\n",
              "Senador Vasconcelos    84.500000\n",
              "Galeão                 82.333333\n",
              "\n",
              "[150 rows x 1 columns]"
            ]
          },
          "metadata": {
            "tags": []
          },
          "execution_count": 27
        }
      ]
    },
    {
      "cell_type": "markdown",
      "metadata": {
        "id": "_t4B47ya_I6m"
      },
      "source": [
        "**É pelo visto a nossa hipótese falhou!!!**"
      ]
    },
    {
      "cell_type": "markdown",
      "metadata": {
        "id": "Wp8HjT-C_d3I"
      },
      "source": [
        "#### 4.2.5 Validando resultados\r\n",
        "Ocorre que, um bom cientista de dados **não deve dar como encerrado suas análises**, mesmo quando visualiza seus plot's, tabelas, sumarizações e resultado dos modelos preditivos. Devemos **confrontar esses output's** que produzimos, com a realidade dos fatos.\r\n",
        "\r\n",
        "Temos que pesquisar, validar os resultados! Nessa análise dos dados do Airbnb do Rio de Janeiro, recebemos como resultado final que o bairro **Vista Alegre** possui, em média, a diária mais cara da cidade do Rio de Janeiro.\r\n",
        "\r\n",
        "As praias no Rio de Janeiro são grandes pontos turísticos e a praia mais próxima do bairro **Vista Alegre** é a **Praia de Ramos**, cerca de 13 km de distância. O póximo resultado que obtivemos foi o bairro **Vaz Lobo** e a praia mais próxima, também é a **Praia de Ramos**, no entanto está a cerca de 16 km de distância.\r\n",
        "\r\n",
        "Não sei vocês... mais eu até aceitaria pagar um pouco mais se estivesse apenas alguns metros da praia!!!\r\n",
        "\r\n",
        "O que nos resta é checar melhor esse resultado!!"
      ]
    },
    {
      "cell_type": "markdown",
      "metadata": {
        "id": "YhMtJSCox7IN"
      },
      "source": [
        "Consultando os registros específicos pelos bairros, constatamos que a quantidade de aúncios por bairro é de extrema relevância em nossa análise!! \r\n",
        "\r\n",
        "Se tomássemos como encerrada essa exploração, aqui neste ponto, estaríamos tomando decisões enviesadas.... mesmo já tendo feito a limpeza dos dados dos valores de *outlier's*. Por isso é importante entender sobre o contexto em que se está inserido. "
      ]
    },
    {
      "cell_type": "markdown",
      "metadata": {
        "id": "ttcqwxvjiYh9"
      },
      "source": [
        "Checando os anúncios do bairro *Vista Alegre* identificamos que o mesmo possui apenas 1 anúncio, dado que em todo dataSet temos 23.836 anúncios."
      ]
    },
    {
      "cell_type": "code",
      "metadata": {
        "id": "dxmECghUyB1k",
        "colab": {
          "base_uri": "https://localhost:8080/",
          "height": 151
        },
        "outputId": "dd7a5f2d-7cf8-4cc8-9d8f-181b3c6d14d8"
      },
      "source": [
        "df_etl[df_etl.neighbourhood == \"Vista Alegre\"]"
      ],
      "execution_count": 28,
      "outputs": [
        {
          "output_type": "execute_result",
          "data": {
            "text/html": [
              "<div>\n",
              "<style scoped>\n",
              "    .dataframe tbody tr th:only-of-type {\n",
              "        vertical-align: middle;\n",
              "    }\n",
              "\n",
              "    .dataframe tbody tr th {\n",
              "        vertical-align: top;\n",
              "    }\n",
              "\n",
              "    .dataframe thead th {\n",
              "        text-align: right;\n",
              "    }\n",
              "</style>\n",
              "<table border=\"1\" class=\"dataframe\">\n",
              "  <thead>\n",
              "    <tr style=\"text-align: right;\">\n",
              "      <th></th>\n",
              "      <th>id</th>\n",
              "      <th>name</th>\n",
              "      <th>host_id</th>\n",
              "      <th>host_name</th>\n",
              "      <th>neighbourhood</th>\n",
              "      <th>latitude</th>\n",
              "      <th>longitude</th>\n",
              "      <th>room_type</th>\n",
              "      <th>price</th>\n",
              "      <th>minimum_nights</th>\n",
              "      <th>number_of_reviews</th>\n",
              "      <th>last_review</th>\n",
              "      <th>reviews_per_month</th>\n",
              "      <th>calculated_host_listings_count</th>\n",
              "      <th>availability_365</th>\n",
              "    </tr>\n",
              "  </thead>\n",
              "  <tbody>\n",
              "    <tr>\n",
              "      <th>7917</th>\n",
              "      <td>13654995</td>\n",
              "      <td>Cozy colonial style room</td>\n",
              "      <td>79273288</td>\n",
              "      <td>Sérgio</td>\n",
              "      <td>Vista Alegre</td>\n",
              "      <td>-22.8286</td>\n",
              "      <td>-43.31916</td>\n",
              "      <td>Private room</td>\n",
              "      <td>1304</td>\n",
              "      <td>1</td>\n",
              "      <td>1</td>\n",
              "      <td>2016-08-05</td>\n",
              "      <td>0.02</td>\n",
              "      <td>1</td>\n",
              "      <td>365</td>\n",
              "    </tr>\n",
              "  </tbody>\n",
              "</table>\n",
              "</div>"
            ],
            "text/plain": [
              "            id  ... availability_365\n",
              "7917  13654995  ...              365\n",
              "\n",
              "[1 rows x 15 columns]"
            ]
          },
          "metadata": {
            "tags": []
          },
          "execution_count": 28
        }
      ]
    },
    {
      "cell_type": "code",
      "metadata": {
        "colab": {
          "base_uri": "https://localhost:8080/"
        },
        "id": "aoqr-UnSH3pU",
        "outputId": "828c72e8-7e1f-4db8-b4b3-a820cb619c70"
      },
      "source": [
        "df_etl.shape[0]"
      ],
      "execution_count": 29,
      "outputs": [
        {
          "output_type": "execute_result",
          "data": {
            "text/plain": [
              "23836"
            ]
          },
          "metadata": {
            "tags": []
          },
          "execution_count": 29
        }
      ]
    },
    {
      "cell_type": "markdown",
      "metadata": {
        "id": "g8MSCTlDHjLG"
      },
      "source": [
        "Com o bairro **Vaz Lobo**, temos apenas 2 anúncios em relação a quantidade total de anúncios, que é de 23.836. Representa apenas 0,01%, não dando representatividade e nem sustentação para estar no topo da lista."
      ]
    },
    {
      "cell_type": "code",
      "metadata": {
        "colab": {
          "base_uri": "https://localhost:8080/",
          "height": 233
        },
        "id": "fq8LiITHFytQ",
        "outputId": "b71eeabd-80b4-42d6-bbb4-335be73e1623"
      },
      "source": [
        "df_etl[df_etl.neighbourhood == \"Vaz Lobo\"]"
      ],
      "execution_count": 30,
      "outputs": [
        {
          "output_type": "execute_result",
          "data": {
            "text/html": [
              "<div>\n",
              "<style scoped>\n",
              "    .dataframe tbody tr th:only-of-type {\n",
              "        vertical-align: middle;\n",
              "    }\n",
              "\n",
              "    .dataframe tbody tr th {\n",
              "        vertical-align: top;\n",
              "    }\n",
              "\n",
              "    .dataframe thead th {\n",
              "        text-align: right;\n",
              "    }\n",
              "</style>\n",
              "<table border=\"1\" class=\"dataframe\">\n",
              "  <thead>\n",
              "    <tr style=\"text-align: right;\">\n",
              "      <th></th>\n",
              "      <th>id</th>\n",
              "      <th>name</th>\n",
              "      <th>host_id</th>\n",
              "      <th>host_name</th>\n",
              "      <th>neighbourhood</th>\n",
              "      <th>latitude</th>\n",
              "      <th>longitude</th>\n",
              "      <th>room_type</th>\n",
              "      <th>price</th>\n",
              "      <th>minimum_nights</th>\n",
              "      <th>number_of_reviews</th>\n",
              "      <th>last_review</th>\n",
              "      <th>reviews_per_month</th>\n",
              "      <th>calculated_host_listings_count</th>\n",
              "      <th>availability_365</th>\n",
              "    </tr>\n",
              "  </thead>\n",
              "  <tbody>\n",
              "    <tr>\n",
              "      <th>9291</th>\n",
              "      <td>14221134</td>\n",
              "      <td>casa  colonial  3  quartos, garagem</td>\n",
              "      <td>86402266</td>\n",
              "      <td>Lucia</td>\n",
              "      <td>Vaz Lobo</td>\n",
              "      <td>-22.85696</td>\n",
              "      <td>-43.32432</td>\n",
              "      <td>Entire home/apt</td>\n",
              "      <td>1344</td>\n",
              "      <td>15</td>\n",
              "      <td>0</td>\n",
              "      <td>NaN</td>\n",
              "      <td>NaN</td>\n",
              "      <td>1</td>\n",
              "      <td>365</td>\n",
              "    </tr>\n",
              "    <tr>\n",
              "      <th>21194</th>\n",
              "      <td>42012781</td>\n",
              "      <td>Casas flegler</td>\n",
              "      <td>332881900</td>\n",
              "      <td>Igor Flegler De Souza</td>\n",
              "      <td>Vaz Lobo</td>\n",
              "      <td>-22.86057</td>\n",
              "      <td>-43.32320</td>\n",
              "      <td>Private room</td>\n",
              "      <td>300</td>\n",
              "      <td>1</td>\n",
              "      <td>0</td>\n",
              "      <td>NaN</td>\n",
              "      <td>NaN</td>\n",
              "      <td>1</td>\n",
              "      <td>362</td>\n",
              "    </tr>\n",
              "  </tbody>\n",
              "</table>\n",
              "</div>"
            ],
            "text/plain": [
              "             id  ... availability_365\n",
              "9291   14221134  ...              365\n",
              "21194  42012781  ...              362\n",
              "\n",
              "[2 rows x 15 columns]"
            ]
          },
          "metadata": {
            "tags": []
          },
          "execution_count": 30
        }
      ]
    },
    {
      "cell_type": "markdown",
      "metadata": {
        "id": "_Xc8uf7tIkyM"
      },
      "source": [
        "#### 4.2.6 Ajustando os dados dado ao contexto\r\n",
        "Contexto que utilizaremos será:\r\n",
        "\r\n",
        "1.   Identificar a quantidade de anúncios por bairros;\r\n",
        "2.   Ordenar por ordem decrescente.\r\n"
      ]
    },
    {
      "cell_type": "code",
      "metadata": {
        "colab": {
          "base_uri": "https://localhost:8080/"
        },
        "id": "f6VgRJNjJHfm",
        "outputId": "e03037f5-6865-4e90-cdac-4bf8fddfa63b"
      },
      "source": [
        "df_etl.neighbourhood.value_counts().sort_values(ascending= False)"
      ],
      "execution_count": 31,
      "outputs": [
        {
          "output_type": "execute_result",
          "data": {
            "text/plain": [
              "Copacabana          7064\n",
              "Ipanema             2248\n",
              "Barra da Tijuca     2235\n",
              "Jacarepaguá         1207\n",
              "Botafogo            1148\n",
              "                    ... \n",
              "Água Santa             1\n",
              "Magalhães Bastos       1\n",
              "Honório Gurgel         1\n",
              "Zumbi                  1\n",
              "Maré                   1\n",
              "Name: neighbourhood, Length: 150, dtype: int64"
            ]
          },
          "metadata": {
            "tags": []
          },
          "execution_count": 31
        }
      ]
    },
    {
      "cell_type": "markdown",
      "metadata": {
        "id": "_XpddyeRJ2a6"
      },
      "source": [
        "#### 4.2.7 Obtendo novo dataSet\r\n",
        "Agrupando os dados por bairros e identificando a quantidade total de anúncios, identifica-se que há uma distância entre essas quantidades. O bairro que mais anuncia, Copacabana, possui 7.064 anúncio, ao passo que 72 bairros possuem no máximo 10 anúncios"
      ]
    },
    {
      "cell_type": "code",
      "metadata": {
        "colab": {
          "base_uri": "https://localhost:8080/"
        },
        "id": "4iwvx-rC8Z0c",
        "outputId": "f35cf8a9-25aa-435b-9a9c-729a5af7a420"
      },
      "source": [
        "print(\"Ao todo temos {} bairros com no máximo 10 anúncios\".\\\r\n",
        "      format(len(df_etl.neighbourhood.value_counts().loc[lambda x : x <= 10])))"
      ],
      "execution_count": 32,
      "outputs": [
        {
          "output_type": "stream",
          "text": [
            "Ao todo temos 72 bairros com no máximo 10 anúncios\n"
          ],
          "name": "stdout"
        }
      ]
    },
    {
      "cell_type": "markdown",
      "metadata": {
        "id": "qQ181CsRL5ae"
      },
      "source": [
        "##### 4.2.7.1 Top 20 bairros\r\n",
        "Dado ao contexto dos dados, para realizar as devidas comparações de bairros com maior preço médio de diária, iremos separar do nosso dataSet limpo apenas as informações referentes dos 20 primeiros bairros que mais ofertam acomodações, um *top20*."
      ]
    },
    {
      "cell_type": "code",
      "metadata": {
        "id": "2DtO3PMnMhjH"
      },
      "source": [
        "# identificando os bairros Top20 anúncios\r\n",
        "# df_etl.neighbourhood.value_counts()[:20]\r\n",
        "top20= list(df_etl.neighbourhood.value_counts()[:20].index)"
      ],
      "execution_count": 33,
      "outputs": []
    },
    {
      "cell_type": "code",
      "metadata": {
        "colab": {
          "base_uri": "https://localhost:8080/",
          "height": 445
        },
        "id": "f-wlSCuRZlJG",
        "outputId": "ad100861-0f8e-4cc0-c7ff-65acdb1abd5e"
      },
      "source": [
        "# dataSet dos 20 bairros que mais anunciam aluguel\r\n",
        "\r\n",
        "df_top20 = df_etl[df_etl['neighbourhood'].isin(top20)]\r\n",
        "df_top20.head()"
      ],
      "execution_count": 34,
      "outputs": [
        {
          "output_type": "execute_result",
          "data": {
            "text/html": [
              "<div>\n",
              "<style scoped>\n",
              "    .dataframe tbody tr th:only-of-type {\n",
              "        vertical-align: middle;\n",
              "    }\n",
              "\n",
              "    .dataframe tbody tr th {\n",
              "        vertical-align: top;\n",
              "    }\n",
              "\n",
              "    .dataframe thead th {\n",
              "        text-align: right;\n",
              "    }\n",
              "</style>\n",
              "<table border=\"1\" class=\"dataframe\">\n",
              "  <thead>\n",
              "    <tr style=\"text-align: right;\">\n",
              "      <th></th>\n",
              "      <th>id</th>\n",
              "      <th>name</th>\n",
              "      <th>host_id</th>\n",
              "      <th>host_name</th>\n",
              "      <th>neighbourhood</th>\n",
              "      <th>latitude</th>\n",
              "      <th>longitude</th>\n",
              "      <th>room_type</th>\n",
              "      <th>price</th>\n",
              "      <th>minimum_nights</th>\n",
              "      <th>number_of_reviews</th>\n",
              "      <th>last_review</th>\n",
              "      <th>reviews_per_month</th>\n",
              "      <th>calculated_host_listings_count</th>\n",
              "      <th>availability_365</th>\n",
              "    </tr>\n",
              "  </thead>\n",
              "  <tbody>\n",
              "    <tr>\n",
              "      <th>0</th>\n",
              "      <td>17878</td>\n",
              "      <td>Very Nice 2Br in Copacabana w. balcony, fast WiFi</td>\n",
              "      <td>68997</td>\n",
              "      <td>Matthias</td>\n",
              "      <td>Copacabana</td>\n",
              "      <td>-22.96592</td>\n",
              "      <td>-43.17896</td>\n",
              "      <td>Entire home/apt</td>\n",
              "      <td>201</td>\n",
              "      <td>5</td>\n",
              "      <td>258</td>\n",
              "      <td>2020-12-26</td>\n",
              "      <td>2.01</td>\n",
              "      <td>1</td>\n",
              "      <td>286</td>\n",
              "    </tr>\n",
              "    <tr>\n",
              "      <th>1</th>\n",
              "      <td>25026</td>\n",
              "      <td>Beautiful Modern Decorated Studio in Copa</td>\n",
              "      <td>3746246</td>\n",
              "      <td>Ghizlane</td>\n",
              "      <td>Copacabana</td>\n",
              "      <td>-22.97712</td>\n",
              "      <td>-43.19045</td>\n",
              "      <td>Entire home/apt</td>\n",
              "      <td>160</td>\n",
              "      <td>7</td>\n",
              "      <td>238</td>\n",
              "      <td>2020-02-15</td>\n",
              "      <td>1.84</td>\n",
              "      <td>11</td>\n",
              "      <td>357</td>\n",
              "    </tr>\n",
              "    <tr>\n",
              "      <th>2</th>\n",
              "      <td>35636</td>\n",
              "      <td>Cosy flat close to Ipanema beach</td>\n",
              "      <td>153232</td>\n",
              "      <td>Patricia</td>\n",
              "      <td>Ipanema</td>\n",
              "      <td>-22.98816</td>\n",
              "      <td>-43.19359</td>\n",
              "      <td>Entire home/apt</td>\n",
              "      <td>273</td>\n",
              "      <td>2</td>\n",
              "      <td>181</td>\n",
              "      <td>2020-03-15</td>\n",
              "      <td>2.05</td>\n",
              "      <td>1</td>\n",
              "      <td>300</td>\n",
              "    </tr>\n",
              "    <tr>\n",
              "      <th>3</th>\n",
              "      <td>35764</td>\n",
              "      <td>COPACABANA SEA BREEZE  -  RIO - 20 X Superhost</td>\n",
              "      <td>153691</td>\n",
              "      <td>Patricia Miranda &amp; Paulo</td>\n",
              "      <td>Copacabana</td>\n",
              "      <td>-22.98127</td>\n",
              "      <td>-43.19046</td>\n",
              "      <td>Entire home/apt</td>\n",
              "      <td>135</td>\n",
              "      <td>3</td>\n",
              "      <td>350</td>\n",
              "      <td>2021-01-24</td>\n",
              "      <td>2.79</td>\n",
              "      <td>1</td>\n",
              "      <td>84</td>\n",
              "    </tr>\n",
              "    <tr>\n",
              "      <th>4</th>\n",
              "      <td>41198</td>\n",
              "      <td>Modern 2bed,Top end of Copacabana</td>\n",
              "      <td>178975</td>\n",
              "      <td>Nicky</td>\n",
              "      <td>Copacabana</td>\n",
              "      <td>-22.97962</td>\n",
              "      <td>-43.19230</td>\n",
              "      <td>Entire home/apt</td>\n",
              "      <td>492</td>\n",
              "      <td>3</td>\n",
              "      <td>18</td>\n",
              "      <td>2016-02-09</td>\n",
              "      <td>0.19</td>\n",
              "      <td>2</td>\n",
              "      <td>365</td>\n",
              "    </tr>\n",
              "  </tbody>\n",
              "</table>\n",
              "</div>"
            ],
            "text/plain": [
              "      id  ... availability_365\n",
              "0  17878  ...              286\n",
              "1  25026  ...              357\n",
              "2  35636  ...              300\n",
              "3  35764  ...               84\n",
              "4  41198  ...              365\n",
              "\n",
              "[5 rows x 15 columns]"
            ]
          },
          "metadata": {
            "tags": []
          },
          "execution_count": 34
        }
      ]
    },
    {
      "cell_type": "markdown",
      "metadata": {
        "id": "kFfdOXAXOcaF"
      },
      "source": [
        "##### 4.2.7.2 Bairro mais caro para se hospedar\r\n",
        "\r\n",
        "Agora.. após contextualização dos dados e considerando apenas os 20 primeiros bairros detentores de maior representatividade, podemos verificar qual bairro possui em média, o valor mais alto de diária.\r\n",
        "\r\n",
        "Primeiro vamos consultar como está a média de todo os dados.\r\n"
      ]
    },
    {
      "cell_type": "code",
      "metadata": {
        "colab": {
          "base_uri": "https://localhost:8080/"
        },
        "id": "V11Q7cUiSUr6",
        "outputId": "bddd0132-c848-4e90-e7b4-b7b31656104c"
      },
      "source": [
        "df_top20.price.describe()"
      ],
      "execution_count": 35,
      "outputs": [
        {
          "output_type": "execute_result",
          "data": {
            "text/plain": [
              "count    20761.000000\n",
              "mean       371.215259\n",
              "std        291.377127\n",
              "min          0.000000\n",
              "25%        160.000000\n",
              "50%        271.000000\n",
              "75%        499.000000\n",
              "max       1460.000000\n",
              "Name: price, dtype: float64"
            ]
          },
          "metadata": {
            "tags": []
          },
          "execution_count": 35
        }
      ]
    },
    {
      "cell_type": "code",
      "metadata": {
        "colab": {
          "base_uri": "https://localhost:8080/",
          "height": 242
        },
        "id": "9b8BHG03S3ZA",
        "outputId": "8664cc54-95cd-47bf-fefc-82d23dbd5b68"
      },
      "source": [
        "fig, ax = plt.subplots(nrows= 1, ncols= 2, figsize= (8,3))\r\n",
        "\r\n",
        "df_top20.boxplot('price', ax= ax[0], vert= False)\r\n",
        "ax[0].set_title('Preço médio diárias Top 20')\r\n",
        "\r\n",
        "ax[1].hist('price', data= df_top20)\r\n",
        "ax[1].set_title('Preço médio diárias Top 20')\r\n",
        "\r\n",
        "plt.tight_layout()\r\n",
        "print('O preço médio das diárias é de R${}. '\\\r\n",
        "      .format(round(df_top20.price.mean(), 2)))"
      ],
      "execution_count": 36,
      "outputs": [
        {
          "output_type": "stream",
          "text": [
            "O preço médio das diárias é de R$371.22. \n"
          ],
          "name": "stdout"
        },
        {
          "output_type": "display_data",
          "data": {
            "image/png": "[encoded data removed]",
            "text/plain": [
              "<Figure size 576x216 with 2 Axes>"
            ]
          },
          "metadata": {
            "tags": [],
            "needs_background": "light"
          }
        }
      ]
    },
    {
      "cell_type": "markdown",
      "metadata": {
        "id": "tnvOEcN3Sod7"
      },
      "source": [
        "Agora, identificaremos por bairros!!"
      ]
    },
    {
      "cell_type": "code",
      "metadata": {
        "colab": {
          "base_uri": "https://localhost:8080/"
        },
        "id": "9ee4mSpQZr42",
        "outputId": "ce7dda8c-7425-4db8-9c38-a8f5cf88be9d"
      },
      "source": [
        "round(df_top20.groupby(['neighbourhood']).\\\r\n",
        "      price.mean().sort_values(ascending = False),2)"
      ],
      "execution_count": 37,
      "outputs": [
        {
          "output_type": "execute_result",
          "data": {
            "text/plain": [
              "neighbourhood\n",
              "Lagoa                       496.35\n",
              "Leblon                      491.83\n",
              "Ipanema                     465.97\n",
              "Barra da Tijuca             455.16\n",
              "Gávea                       425.84\n",
              "Recreio dos Bandeirantes    425.11\n",
              "Jacarepaguá                 409.70\n",
              "Jardim Botânico             371.89\n",
              "Copacabana                  343.95\n",
              "Leme                        340.97\n",
              "Camorim                     333.77\n",
              "Laranjeiras                 309.94\n",
              "Vila Isabel                 306.60\n",
              "Flamengo                    297.43\n",
              "Botafogo                    297.16\n",
              "Tijuca                      283.31\n",
              "Catete                      265.42\n",
              "Glória                      265.05\n",
              "Santa Teresa                254.34\n",
              "Centro                      228.08\n",
              "Name: price, dtype: float64"
            ]
          },
          "metadata": {
            "tags": []
          },
          "execution_count": 37
        }
      ]
    },
    {
      "cell_type": "markdown",
      "metadata": {
        "id": "CXGIlGp9PRCw"
      },
      "source": [
        "Se lembra da hipótese que acreditávamos que os bairros mais caros seriam os bairros de **novela da 9**.... então... Realmente os dados confirmam isso heim!!! Lembrando que a média de todo os dados do top 20 é de **371,22**\r\n",
        "\r\n",
        "|     Bairro      | Vlr Diária(R$)|\r\n",
        "|-----------------|-------------- |\r\n",
        "|        Lagoa    | 496.35        |\r\n",
        "| Leblon          | 491.83        |\r\n",
        "| Ipanema         | 465.97        |\r\n",
        "| Barra da Tijuca | 455.16        |\r\n",
        "| Gávea           | 425.84        |"
      ]
    },
    {
      "cell_type": "code",
      "metadata": {
        "colab": {
          "base_uri": "https://localhost:8080/"
        },
        "id": "EYw4x9FPPojH",
        "outputId": "0412ce71-5ea5-4742-ce61-c91a4cd0b8e3"
      },
      "source": [
        "round(df_top20.groupby(['neighbourhood']).\\\r\n",
        "      price.mean().sort_values(ascending = False)[:5],2)"
      ],
      "execution_count": 38,
      "outputs": [
        {
          "output_type": "execute_result",
          "data": {
            "text/plain": [
              "neighbourhood\n",
              "Lagoa              496.35\n",
              "Leblon             491.83\n",
              "Ipanema            465.97\n",
              "Barra da Tijuca    455.16\n",
              "Gávea              425.84\n",
              "Name: price, dtype: float64"
            ]
          },
          "metadata": {
            "tags": []
          },
          "execution_count": 38
        }
      ]
    },
    {
      "cell_type": "markdown",
      "metadata": {
        "id": "jHlAFI0IR-xF"
      },
      "source": [
        "##### 4.2.7.3 Mínimo de noites\r\n",
        "A quantidade mínima, em média, para se hospedar nesses **Top 20** bairros são cerca de 4 noites (3,49 - arredondando para cima, até porque o Rio de Janeiro é muito lindo... tem que ser para mais dias e não para menos...)."
      ]
    },
    {
      "cell_type": "code",
      "metadata": {
        "colab": {
          "base_uri": "https://localhost:8080/"
        },
        "id": "Ndo5DolrUL4l",
        "outputId": "d47f4998-3683-4027-c383-e40e02c0f8fd"
      },
      "source": [
        "df_top20.minimum_nights.describe()"
      ],
      "execution_count": 39,
      "outputs": [
        {
          "output_type": "execute_result",
          "data": {
            "text/plain": [
              "count    20761.000000\n",
              "mean         3.499783\n",
              "std          4.070088\n",
              "min          1.000000\n",
              "25%          2.000000\n",
              "50%          3.000000\n",
              "75%          4.000000\n",
              "max         30.000000\n",
              "Name: minimum_nights, dtype: float64"
            ]
          },
          "metadata": {
            "tags": []
          },
          "execution_count": 39
        }
      ]
    },
    {
      "cell_type": "markdown",
      "metadata": {
        "id": "hNteo1wxUt76"
      },
      "source": [
        "Quantidade mínima de noites por bairros, temos:"
      ]
    },
    {
      "cell_type": "code",
      "metadata": {
        "colab": {
          "base_uri": "https://localhost:8080/"
        },
        "id": "eanDlwqEaLZ3",
        "outputId": "6e455e4a-b456-4b48-d1a0-a9aedcd9f770"
      },
      "source": [
        "round(df_top20.groupby(['neighbourhood']).\\\r\n",
        "      minimum_nights.mean().sort_values(ascending = False), 0)"
      ],
      "execution_count": 40,
      "outputs": [
        {
          "output_type": "execute_result",
          "data": {
            "text/plain": [
              "neighbourhood\n",
              "Glória                      5.0\n",
              "Jacarepaguá                 4.0\n",
              "Gávea                       4.0\n",
              "Flamengo                    4.0\n",
              "Camorim                     4.0\n",
              "Lagoa                       4.0\n",
              "Recreio dos Bandeirantes    4.0\n",
              "Botafogo                    4.0\n",
              "Barra da Tijuca             4.0\n",
              "Vila Isabel                 4.0\n",
              "Jardim Botânico             4.0\n",
              "Tijuca                      3.0\n",
              "Leblon                      3.0\n",
              "Laranjeiras                 3.0\n",
              "Copacabana                  3.0\n",
              "Leme                        3.0\n",
              "Ipanema                     3.0\n",
              "Centro                      3.0\n",
              "Catete                      3.0\n",
              "Santa Teresa                3.0\n",
              "Name: minimum_nights, dtype: float64"
            ]
          },
          "metadata": {
            "tags": []
          },
          "execution_count": 40
        }
      ]
    },
    {
      "cell_type": "markdown",
      "metadata": {
        "id": "DvIbi-L8VCqV"
      },
      "source": [
        "##### 4.2.7.4 Agrupando as informações\r\n",
        "Agrupando as informações por bairros, visualizando o preço médio da diária, bem como a quantidade mínima de noites disponíveis."
      ]
    },
    {
      "cell_type": "code",
      "metadata": {
        "colab": {
          "base_uri": "https://localhost:8080/",
          "height": 700
        },
        "id": "erbWgLN7qZyo",
        "outputId": "57d0b22c-95a5-4981-8188-91ecc568c3e7"
      },
      "source": [
        "df_top20.pivot_table(['minimum_nights','price'],['neighbourhood'],\r\n",
        "                     aggfunc= 'mean').sort_values('price', ascending= False)"
      ],
      "execution_count": 41,
      "outputs": [
        {
          "output_type": "execute_result",
          "data": {
            "text/html": [
              "<div>\n",
              "<style scoped>\n",
              "    .dataframe tbody tr th:only-of-type {\n",
              "        vertical-align: middle;\n",
              "    }\n",
              "\n",
              "    .dataframe tbody tr th {\n",
              "        vertical-align: top;\n",
              "    }\n",
              "\n",
              "    .dataframe thead th {\n",
              "        text-align: right;\n",
              "    }\n",
              "</style>\n",
              "<table border=\"1\" class=\"dataframe\">\n",
              "  <thead>\n",
              "    <tr style=\"text-align: right;\">\n",
              "      <th></th>\n",
              "      <th>minimum_nights</th>\n",
              "      <th>price</th>\n",
              "    </tr>\n",
              "    <tr>\n",
              "      <th>neighbourhood</th>\n",
              "      <th></th>\n",
              "      <th></th>\n",
              "    </tr>\n",
              "  </thead>\n",
              "  <tbody>\n",
              "    <tr>\n",
              "      <th>Lagoa</th>\n",
              "      <td>3.943128</td>\n",
              "      <td>496.350711</td>\n",
              "    </tr>\n",
              "    <tr>\n",
              "      <th>Leblon</th>\n",
              "      <td>3.405485</td>\n",
              "      <td>491.834476</td>\n",
              "    </tr>\n",
              "    <tr>\n",
              "      <th>Ipanema</th>\n",
              "      <td>3.219306</td>\n",
              "      <td>465.968861</td>\n",
              "    </tr>\n",
              "    <tr>\n",
              "      <th>Barra da Tijuca</th>\n",
              "      <td>3.668904</td>\n",
              "      <td>455.158837</td>\n",
              "    </tr>\n",
              "    <tr>\n",
              "      <th>Gávea</th>\n",
              "      <td>4.176829</td>\n",
              "      <td>425.835366</td>\n",
              "    </tr>\n",
              "    <tr>\n",
              "      <th>Recreio dos Bandeirantes</th>\n",
              "      <td>3.721790</td>\n",
              "      <td>425.111868</td>\n",
              "    </tr>\n",
              "    <tr>\n",
              "      <th>Jacarepaguá</th>\n",
              "      <td>4.338028</td>\n",
              "      <td>409.700083</td>\n",
              "    </tr>\n",
              "    <tr>\n",
              "      <th>Jardim Botânico</th>\n",
              "      <td>3.516667</td>\n",
              "      <td>371.894444</td>\n",
              "    </tr>\n",
              "    <tr>\n",
              "      <th>Copacabana</th>\n",
              "      <td>3.360985</td>\n",
              "      <td>343.953426</td>\n",
              "    </tr>\n",
              "    <tr>\n",
              "      <th>Leme</th>\n",
              "      <td>3.360759</td>\n",
              "      <td>340.974684</td>\n",
              "    </tr>\n",
              "    <tr>\n",
              "      <th>Camorim</th>\n",
              "      <td>3.957983</td>\n",
              "      <td>333.768908</td>\n",
              "    </tr>\n",
              "    <tr>\n",
              "      <th>Laranjeiras</th>\n",
              "      <td>3.364090</td>\n",
              "      <td>309.937656</td>\n",
              "    </tr>\n",
              "    <tr>\n",
              "      <th>Vila Isabel</th>\n",
              "      <td>3.522989</td>\n",
              "      <td>306.603448</td>\n",
              "    </tr>\n",
              "    <tr>\n",
              "      <th>Flamengo</th>\n",
              "      <td>4.055655</td>\n",
              "      <td>297.429084</td>\n",
              "    </tr>\n",
              "    <tr>\n",
              "      <th>Botafogo</th>\n",
              "      <td>3.705575</td>\n",
              "      <td>297.155923</td>\n",
              "    </tr>\n",
              "    <tr>\n",
              "      <th>Tijuca</th>\n",
              "      <td>3.463801</td>\n",
              "      <td>283.307692</td>\n",
              "    </tr>\n",
              "    <tr>\n",
              "      <th>Catete</th>\n",
              "      <td>3.144105</td>\n",
              "      <td>265.419214</td>\n",
              "    </tr>\n",
              "    <tr>\n",
              "      <th>Glória</th>\n",
              "      <td>4.622449</td>\n",
              "      <td>265.051020</td>\n",
              "    </tr>\n",
              "    <tr>\n",
              "      <th>Santa Teresa</th>\n",
              "      <td>2.797561</td>\n",
              "      <td>254.343902</td>\n",
              "    </tr>\n",
              "    <tr>\n",
              "      <th>Centro</th>\n",
              "      <td>3.218232</td>\n",
              "      <td>228.080110</td>\n",
              "    </tr>\n",
              "  </tbody>\n",
              "</table>\n",
              "</div>"
            ],
            "text/plain": [
              "                          minimum_nights       price\n",
              "neighbourhood                                       \n",
              "Lagoa                           3.943128  496.350711\n",
              "Leblon                          3.405485  491.834476\n",
              "Ipanema                         3.219306  465.968861\n",
              "Barra da Tijuca                 3.668904  455.158837\n",
              "Gávea                           4.176829  425.835366\n",
              "Recreio dos Bandeirantes        3.721790  425.111868\n",
              "Jacarepaguá                     4.338028  409.700083\n",
              "Jardim Botânico                 3.516667  371.894444\n",
              "Copacabana                      3.360985  343.953426\n",
              "Leme                            3.360759  340.974684\n",
              "Camorim                         3.957983  333.768908\n",
              "Laranjeiras                     3.364090  309.937656\n",
              "Vila Isabel                     3.522989  306.603448\n",
              "Flamengo                        4.055655  297.429084\n",
              "Botafogo                        3.705575  297.155923\n",
              "Tijuca                          3.463801  283.307692\n",
              "Catete                          3.144105  265.419214\n",
              "Glória                          4.622449  265.051020\n",
              "Santa Teresa                    2.797561  254.343902\n",
              "Centro                          3.218232  228.080110"
            ]
          },
          "metadata": {
            "tags": []
          },
          "execution_count": 41
        }
      ]
    },
    {
      "cell_type": "markdown",
      "metadata": {
        "id": "3UYr9-tv3fMS"
      },
      "source": [
        "##### 4.2.7.5 Dispêndio médio para hospedar\r\n",
        "Pensando no usuário/turista, podemos verificar qual o total médio, por bairro, que cada um poderá dispender para hospedar nos respectivos bairros, a saber:\r\n"
      ]
    },
    {
      "cell_type": "code",
      "metadata": {
        "colab": {
          "base_uri": "https://localhost:8080/",
          "height": 700
        },
        "id": "hsWw0Fw93eHf",
        "outputId": "8526d18b-2e37-4134-d6ff-a3e09eb371e4"
      },
      "source": [
        "dispendio= df_top20.pivot_table(['minimum_nights','price'],['neighbourhood'],\r\n",
        "                     aggfunc= 'mean').sort_values('price', ascending= False)\r\n",
        "dispendio['dispendio_médio'] = round(dispendio['minimum_nights']*\\\r\n",
        "                                     dispendio['price'],2)\r\n",
        "dispendio.sort_values('dispendio_médio', ascending= False)"
      ],
      "execution_count": 42,
      "outputs": [
        {
          "output_type": "execute_result",
          "data": {
            "text/html": [
              "<div>\n",
              "<style scoped>\n",
              "    .dataframe tbody tr th:only-of-type {\n",
              "        vertical-align: middle;\n",
              "    }\n",
              "\n",
              "    .dataframe tbody tr th {\n",
              "        vertical-align: top;\n",
              "    }\n",
              "\n",
              "    .dataframe thead th {\n",
              "        text-align: right;\n",
              "    }\n",
              "</style>\n",
              "<table border=\"1\" class=\"dataframe\">\n",
              "  <thead>\n",
              "    <tr style=\"text-align: right;\">\n",
              "      <th></th>\n",
              "      <th>minimum_nights</th>\n",
              "      <th>price</th>\n",
              "      <th>dispendio_médio</th>\n",
              "    </tr>\n",
              "    <tr>\n",
              "      <th>neighbourhood</th>\n",
              "      <th></th>\n",
              "      <th></th>\n",
              "      <th></th>\n",
              "    </tr>\n",
              "  </thead>\n",
              "  <tbody>\n",
              "    <tr>\n",
              "      <th>Lagoa</th>\n",
              "      <td>3.943128</td>\n",
              "      <td>496.350711</td>\n",
              "      <td>1957.17</td>\n",
              "    </tr>\n",
              "    <tr>\n",
              "      <th>Gávea</th>\n",
              "      <td>4.176829</td>\n",
              "      <td>425.835366</td>\n",
              "      <td>1778.64</td>\n",
              "    </tr>\n",
              "    <tr>\n",
              "      <th>Jacarepaguá</th>\n",
              "      <td>4.338028</td>\n",
              "      <td>409.700083</td>\n",
              "      <td>1777.29</td>\n",
              "    </tr>\n",
              "    <tr>\n",
              "      <th>Leblon</th>\n",
              "      <td>3.405485</td>\n",
              "      <td>491.834476</td>\n",
              "      <td>1674.93</td>\n",
              "    </tr>\n",
              "    <tr>\n",
              "      <th>Barra da Tijuca</th>\n",
              "      <td>3.668904</td>\n",
              "      <td>455.158837</td>\n",
              "      <td>1669.93</td>\n",
              "    </tr>\n",
              "    <tr>\n",
              "      <th>Recreio dos Bandeirantes</th>\n",
              "      <td>3.721790</td>\n",
              "      <td>425.111868</td>\n",
              "      <td>1582.18</td>\n",
              "    </tr>\n",
              "    <tr>\n",
              "      <th>Ipanema</th>\n",
              "      <td>3.219306</td>\n",
              "      <td>465.968861</td>\n",
              "      <td>1500.10</td>\n",
              "    </tr>\n",
              "    <tr>\n",
              "      <th>Camorim</th>\n",
              "      <td>3.957983</td>\n",
              "      <td>333.768908</td>\n",
              "      <td>1321.05</td>\n",
              "    </tr>\n",
              "    <tr>\n",
              "      <th>Jardim Botânico</th>\n",
              "      <td>3.516667</td>\n",
              "      <td>371.894444</td>\n",
              "      <td>1307.83</td>\n",
              "    </tr>\n",
              "    <tr>\n",
              "      <th>Glória</th>\n",
              "      <td>4.622449</td>\n",
              "      <td>265.051020</td>\n",
              "      <td>1225.18</td>\n",
              "    </tr>\n",
              "    <tr>\n",
              "      <th>Flamengo</th>\n",
              "      <td>4.055655</td>\n",
              "      <td>297.429084</td>\n",
              "      <td>1206.27</td>\n",
              "    </tr>\n",
              "    <tr>\n",
              "      <th>Copacabana</th>\n",
              "      <td>3.360985</td>\n",
              "      <td>343.953426</td>\n",
              "      <td>1156.02</td>\n",
              "    </tr>\n",
              "    <tr>\n",
              "      <th>Leme</th>\n",
              "      <td>3.360759</td>\n",
              "      <td>340.974684</td>\n",
              "      <td>1145.93</td>\n",
              "    </tr>\n",
              "    <tr>\n",
              "      <th>Botafogo</th>\n",
              "      <td>3.705575</td>\n",
              "      <td>297.155923</td>\n",
              "      <td>1101.13</td>\n",
              "    </tr>\n",
              "    <tr>\n",
              "      <th>Vila Isabel</th>\n",
              "      <td>3.522989</td>\n",
              "      <td>306.603448</td>\n",
              "      <td>1080.16</td>\n",
              "    </tr>\n",
              "    <tr>\n",
              "      <th>Laranjeiras</th>\n",
              "      <td>3.364090</td>\n",
              "      <td>309.937656</td>\n",
              "      <td>1042.66</td>\n",
              "    </tr>\n",
              "    <tr>\n",
              "      <th>Tijuca</th>\n",
              "      <td>3.463801</td>\n",
              "      <td>283.307692</td>\n",
              "      <td>981.32</td>\n",
              "    </tr>\n",
              "    <tr>\n",
              "      <th>Catete</th>\n",
              "      <td>3.144105</td>\n",
              "      <td>265.419214</td>\n",
              "      <td>834.51</td>\n",
              "    </tr>\n",
              "    <tr>\n",
              "      <th>Centro</th>\n",
              "      <td>3.218232</td>\n",
              "      <td>228.080110</td>\n",
              "      <td>734.01</td>\n",
              "    </tr>\n",
              "    <tr>\n",
              "      <th>Santa Teresa</th>\n",
              "      <td>2.797561</td>\n",
              "      <td>254.343902</td>\n",
              "      <td>711.54</td>\n",
              "    </tr>\n",
              "  </tbody>\n",
              "</table>\n",
              "</div>"
            ],
            "text/plain": [
              "                          minimum_nights       price  dispendio_médio\n",
              "neighbourhood                                                        \n",
              "Lagoa                           3.943128  496.350711          1957.17\n",
              "Gávea                           4.176829  425.835366          1778.64\n",
              "Jacarepaguá                     4.338028  409.700083          1777.29\n",
              "Leblon                          3.405485  491.834476          1674.93\n",
              "Barra da Tijuca                 3.668904  455.158837          1669.93\n",
              "Recreio dos Bandeirantes        3.721790  425.111868          1582.18\n",
              "Ipanema                         3.219306  465.968861          1500.10\n",
              "Camorim                         3.957983  333.768908          1321.05\n",
              "Jardim Botânico                 3.516667  371.894444          1307.83\n",
              "Glória                          4.622449  265.051020          1225.18\n",
              "Flamengo                        4.055655  297.429084          1206.27\n",
              "Copacabana                      3.360985  343.953426          1156.02\n",
              "Leme                            3.360759  340.974684          1145.93\n",
              "Botafogo                        3.705575  297.155923          1101.13\n",
              "Vila Isabel                     3.522989  306.603448          1080.16\n",
              "Laranjeiras                     3.364090  309.937656          1042.66\n",
              "Tijuca                          3.463801  283.307692           981.32\n",
              "Catete                          3.144105  265.419214           834.51\n",
              "Centro                          3.218232  228.080110           734.01\n",
              "Santa Teresa                    2.797561  254.343902           711.54"
            ]
          },
          "metadata": {
            "tags": []
          },
          "execution_count": 42
        }
      ]
    },
    {
      "cell_type": "markdown",
      "metadata": {
        "id": "IXn2oIo5qx-w"
      },
      "source": [
        "#### 4.2.8 Correlação existente entre as variáveis\r\n",
        "Um passo importante no processo de *Data Science* é identificar a correlação das variáveis, ou seja, o quanto que uma variável se relaciona com outra variável. Para uso de algoritmos de *Machine Learning* é muito importante identificar essas correlações e um dos diversos propósitos da correlção é descobrir problemas de multicolinearidade, que é quando duas variáveis possuem a mesma informação... Mais será assunto para um próximo jupyter... Importante aqui é apenas visualizar possíveis correlações entre as variáveis numéricas do nosso dataSet."
      ]
    },
    {
      "cell_type": "code",
      "metadata": {
        "id": "x2ayzBajqxyd",
        "colab": {
          "base_uri": "https://localhost:8080/",
          "height": 379
        },
        "outputId": "3641205b-692c-4593-84b9-9efdd47c87ad"
      },
      "source": [
        "# matriz de correlação com método Pearson \n",
        "correlations = df_top20.corr(method= 'pearson')\n",
        "# mostrar a matriz de correlação\n",
        "correlations"
      ],
      "execution_count": 43,
      "outputs": [
        {
          "output_type": "execute_result",
          "data": {
            "text/html": [
              "<div>\n",
              "<style scoped>\n",
              "    .dataframe tbody tr th:only-of-type {\n",
              "        vertical-align: middle;\n",
              "    }\n",
              "\n",
              "    .dataframe tbody tr th {\n",
              "        vertical-align: top;\n",
              "    }\n",
              "\n",
              "    .dataframe thead th {\n",
              "        text-align: right;\n",
              "    }\n",
              "</style>\n",
              "<table border=\"1\" class=\"dataframe\">\n",
              "  <thead>\n",
              "    <tr style=\"text-align: right;\">\n",
              "      <th></th>\n",
              "      <th>id</th>\n",
              "      <th>host_id</th>\n",
              "      <th>latitude</th>\n",
              "      <th>longitude</th>\n",
              "      <th>price</th>\n",
              "      <th>minimum_nights</th>\n",
              "      <th>number_of_reviews</th>\n",
              "      <th>reviews_per_month</th>\n",
              "      <th>calculated_host_listings_count</th>\n",
              "      <th>availability_365</th>\n",
              "    </tr>\n",
              "  </thead>\n",
              "  <tbody>\n",
              "    <tr>\n",
              "      <th>id</th>\n",
              "      <td>1.000000</td>\n",
              "      <td>0.560458</td>\n",
              "      <td>-0.052270</td>\n",
              "      <td>-0.025485</td>\n",
              "      <td>-0.085279</td>\n",
              "      <td>-0.104164</td>\n",
              "      <td>-0.316420</td>\n",
              "      <td>0.196553</td>\n",
              "      <td>0.111738</td>\n",
              "      <td>-0.122779</td>\n",
              "    </tr>\n",
              "    <tr>\n",
              "      <th>host_id</th>\n",
              "      <td>0.560458</td>\n",
              "      <td>1.000000</td>\n",
              "      <td>-0.030617</td>\n",
              "      <td>-0.089459</td>\n",
              "      <td>-0.059143</td>\n",
              "      <td>-0.079888</td>\n",
              "      <td>-0.180396</td>\n",
              "      <td>0.119673</td>\n",
              "      <td>0.066841</td>\n",
              "      <td>-0.057660</td>\n",
              "    </tr>\n",
              "    <tr>\n",
              "      <th>latitude</th>\n",
              "      <td>-0.052270</td>\n",
              "      <td>-0.030617</td>\n",
              "      <td>1.000000</td>\n",
              "      <td>0.556867</td>\n",
              "      <td>-0.205764</td>\n",
              "      <td>-0.010702</td>\n",
              "      <td>-0.032280</td>\n",
              "      <td>-0.071323</td>\n",
              "      <td>-0.063661</td>\n",
              "      <td>0.018220</td>\n",
              "    </tr>\n",
              "    <tr>\n",
              "      <th>longitude</th>\n",
              "      <td>-0.025485</td>\n",
              "      <td>-0.089459</td>\n",
              "      <td>0.556867</td>\n",
              "      <td>1.000000</td>\n",
              "      <td>-0.114144</td>\n",
              "      <td>-0.051790</td>\n",
              "      <td>0.097591</td>\n",
              "      <td>0.019894</td>\n",
              "      <td>0.068343</td>\n",
              "      <td>-0.038458</td>\n",
              "    </tr>\n",
              "    <tr>\n",
              "      <th>price</th>\n",
              "      <td>-0.085279</td>\n",
              "      <td>-0.059143</td>\n",
              "      <td>-0.205764</td>\n",
              "      <td>-0.114144</td>\n",
              "      <td>1.000000</td>\n",
              "      <td>0.106615</td>\n",
              "      <td>-0.164060</td>\n",
              "      <td>-0.165076</td>\n",
              "      <td>0.148255</td>\n",
              "      <td>0.089958</td>\n",
              "    </tr>\n",
              "    <tr>\n",
              "      <th>minimum_nights</th>\n",
              "      <td>-0.104164</td>\n",
              "      <td>-0.079888</td>\n",
              "      <td>-0.010702</td>\n",
              "      <td>-0.051790</td>\n",
              "      <td>0.106615</td>\n",
              "      <td>1.000000</td>\n",
              "      <td>-0.072228</td>\n",
              "      <td>-0.111337</td>\n",
              "      <td>-0.057259</td>\n",
              "      <td>-0.012140</td>\n",
              "    </tr>\n",
              "    <tr>\n",
              "      <th>number_of_reviews</th>\n",
              "      <td>-0.316420</td>\n",
              "      <td>-0.180396</td>\n",
              "      <td>-0.032280</td>\n",
              "      <td>0.097591</td>\n",
              "      <td>-0.164060</td>\n",
              "      <td>-0.072228</td>\n",
              "      <td>1.000000</td>\n",
              "      <td>0.588637</td>\n",
              "      <td>-0.062172</td>\n",
              "      <td>-0.063168</td>\n",
              "    </tr>\n",
              "    <tr>\n",
              "      <th>reviews_per_month</th>\n",
              "      <td>0.196553</td>\n",
              "      <td>0.119673</td>\n",
              "      <td>-0.071323</td>\n",
              "      <td>0.019894</td>\n",
              "      <td>-0.165076</td>\n",
              "      <td>-0.111337</td>\n",
              "      <td>0.588637</td>\n",
              "      <td>1.000000</td>\n",
              "      <td>-0.014925</td>\n",
              "      <td>-0.130448</td>\n",
              "    </tr>\n",
              "    <tr>\n",
              "      <th>calculated_host_listings_count</th>\n",
              "      <td>0.111738</td>\n",
              "      <td>0.066841</td>\n",
              "      <td>-0.063661</td>\n",
              "      <td>0.068343</td>\n",
              "      <td>0.148255</td>\n",
              "      <td>-0.057259</td>\n",
              "      <td>-0.062172</td>\n",
              "      <td>-0.014925</td>\n",
              "      <td>1.000000</td>\n",
              "      <td>0.041326</td>\n",
              "    </tr>\n",
              "    <tr>\n",
              "      <th>availability_365</th>\n",
              "      <td>-0.122779</td>\n",
              "      <td>-0.057660</td>\n",
              "      <td>0.018220</td>\n",
              "      <td>-0.038458</td>\n",
              "      <td>0.089958</td>\n",
              "      <td>-0.012140</td>\n",
              "      <td>-0.063168</td>\n",
              "      <td>-0.130448</td>\n",
              "      <td>0.041326</td>\n",
              "      <td>1.000000</td>\n",
              "    </tr>\n",
              "  </tbody>\n",
              "</table>\n",
              "</div>"
            ],
            "text/plain": [
              "                                      id  ...  availability_365\n",
              "id                              1.000000  ...         -0.122779\n",
              "host_id                         0.560458  ...         -0.057660\n",
              "latitude                       -0.052270  ...          0.018220\n",
              "longitude                      -0.025485  ...         -0.038458\n",
              "price                          -0.085279  ...          0.089958\n",
              "minimum_nights                 -0.104164  ...         -0.012140\n",
              "number_of_reviews              -0.316420  ...         -0.063168\n",
              "reviews_per_month               0.196553  ...         -0.130448\n",
              "calculated_host_listings_count  0.111738  ...          0.041326\n",
              "availability_365               -0.122779  ...          1.000000\n",
              "\n",
              "[10 rows x 10 columns]"
            ]
          },
          "metadata": {
            "tags": []
          },
          "execution_count": 43
        }
      ]
    },
    {
      "cell_type": "markdown",
      "metadata": {
        "id": "Q-6NcxocIkhZ"
      },
      "source": [
        "Assim não diz muita coisa né!! Visualmente temos:"
      ]
    },
    {
      "cell_type": "code",
      "metadata": {
        "id": "91UujDr6ueqE",
        "colab": {
          "base_uri": "https://localhost:8080/",
          "height": 801
        },
        "outputId": "f5196408-7f97-45a7-df11-9165f96a0c89"
      },
      "source": [
        "plt.rcParams[\"figure.figsize\"] = (18,11)\n",
        "fig = plt.figure()\n",
        "ax = fig.add_subplot()\n",
        "\n",
        "cax = ax.matshow(correlations, vmin = -1, vmax = 1)\n",
        "fig.colorbar(cax)\n",
        "\n",
        "ticks = np.arange(len(correlations))\n",
        "\n",
        "ax.set_xticks(ticks)\n",
        "ax.set_yticks(ticks)\n",
        "ax.set_xticklabels(correlations.columns, fontsize=20)\n",
        "ax.set_yticklabels(correlations.columns, fontsize=20)\n",
        "\n",
        "plt.setp(ax.get_xticklabels(), rotation=45, ha=\"left\",\n",
        "         rotation_mode=\"anchor\")\n",
        "\n",
        "plt.tight_layout()"
      ],
      "execution_count": 44,
      "outputs": [
        {
          "output_type": "display_data",
          "data": {
            "image/png": "[encoded data removed]",
            "text/plain": [
              "<Figure size 1296x792 with 2 Axes>"
            ]
          },
          "metadata": {
            "tags": [],
            "needs_background": "light"
          }
        }
      ]
    },
    {
      "cell_type": "markdown",
      "metadata": {
        "id": "L58CXRWIY9s4"
      },
      "source": [
        "Breve interpretação: [para mais informações sobre correlações](https://https://youtu.be/K4MXPV7jX8Q)\r\n",
        "\r\n",
        "A correlação é uma medida estatística que vai de (-1 a 1), indicando a força e a direção do relacionamento entre duas variáveis. Quanto mais próximo do tom \"amarelo\" mais a variável se correlaciona positivamente com a outra a variável. A linha diagonal \"amarela\" siginifica que a variável tem alta correlação com ela mesma.\r\n",
        "\r\n",
        "Lembrando -> **correlação não implica em causalidade**."
      ]
    },
    {
      "cell_type": "markdown",
      "metadata": {
        "id": "oYFYxSp_aRvd"
      },
      "source": [
        "#### 4.2.9 Plot\r\n",
        "Usando apenas as informações de `latitude` e `longitute` em um plano cartesiano simples, onde os pontos de dados representa o preço médio, é nítido que temos a visão do litoral do Rio de Janeiro!!!\r\n",
        "\r\n",
        "Legal né!!!\r\n",
        "\r\n",
        "Nas nossas próximas análises, quando voltarmos com esse dataSet transformaremos esse plot em um mapa!!!! Beleza???"
      ]
    },
    {
      "cell_type": "code",
      "metadata": {
        "id": "UxVJqJ_3W59I",
        "colab": {
          "base_uri": "https://localhost:8080/",
          "height": 472
        },
        "outputId": "41d24c3f-4939-4769-e397-35eb855f4f2a"
      },
      "source": [
        "# plotar os imóveis pela latitude-longitude\n",
        "df_top20.plot(kind= 'scatter', x= 'longitude', y= 'latitude', alpha= 0.8,\n",
        "            c= df_top20['price'], s= 8, cmap= plt.get_cmap('jet'),\n",
        "            figsize= (12,8));\n"
      ],
      "execution_count": 45,
      "outputs": [
        {
          "output_type": "display_data",
          "data": {
            "image/png": "[encoded data removed]",
            "text/plain": [
              "<Figure size 864x576 with 2 Axes>"
            ]
          },
          "metadata": {
            "tags": [],
            "needs_background": "light"
          }
        }
      ]
    },
    {
      "cell_type": "markdown",
      "metadata": {
        "id": "GkvAg623RjoR"
      },
      "source": [
        "## 5. Conclusões\n",
        "\n",
        "Todo processo de análise em *Data Science* as conclusões são únicas, pois reflete aos dados no contexto do problema de negócio apontado no início do projeto. Este dataSet que utilizamos é bom para essa abordagem inicial, pois o mesmo é resumido.\n",
        "\n",
        "O objetivo desse jupyter foi mostrar que *Data Science* não é apenas uso de inteligência artificial, o processo exploratório dos dados, que prepara os mesmos para uso de *Machine Learning* podem render bons insights.\n",
        "\n",
        "Por exemplo, deste mesmo dataSet podemos fazer um recorte de período e comparar dados de 2019 e 2020 e ver possível impacto da Pandemia do Covid-19 nesse setor de turismo. Convido a você verficar esse possível impacto!\n",
        "\n",
        "Até aqui, descobrimos que para se hospedar na cidade Maravilhosa (com base nos dados compilados até dia 26/01/2021), nos bairros mais ofertados, em média e considerando o período mínimo de hospedagem (3 dias) o turista/usuário do Airbnb despenderá um valor de 1.113,63 reais.\n",
        "\n",
        "A medida que a escolha ocorra por bairro, o usuário/turista gastará em média no mínimo os seguintes valores:\n",
        "\n",
        "|     Bairro              | Vlr Gasto(R$)|\n",
        "|-------------------------|--------------|\n",
        "|Lagoa                    |        1957.17|\n",
        "|Gávea                    |        1778.64|\n",
        "|Jacarepaguá              |        1777.29|\n",
        "|Leblon                   |        1674.93|\n",
        "|Barra da Tijuca          |        1669.93|\n",
        "|Recreio dos Bandeirantes |        1582.18|\n",
        "|Ipanema                  |        1500.10|\n",
        "|Camorim                  |        1321.05|\n",
        "|Jardim Botânico          |        1307.83|\n",
        "|Glória                   |        1225.18|\n",
        "|Flamengo                 |        1206.27|\n",
        "|Copacabana               |        1156.02|\n",
        "|Leme                     |        1145.93|\n",
        "|Botafogo                 |        1101.13|\n",
        "|Vila Isabel              |        1080.16|\n",
        "|Laranjeiras              |        1042.66|\n",
        "|Tijuca                   |         981.32|\n",
        "|Catete                   |         834.51|\n",
        "|Centro                   |         734.01|\n",
        "|Santa Teresa             |         711.54|\n",
        "\n",
        "Agora sabemos quanto, em média, poderemos gastar para hospedar no Rio de Janeiro, pelo Airbnb... basta só aguardarmos passar esse período que estamos vivendo... planejar... e na hora certa visitar a Cidade Maravilhosa!!!\n"
      ]
    },
    {
      "cell_type": "markdown",
      "metadata": {
        "id": "9lQDvGt8dNls"
      },
      "source": [
        "\r\n",
        "\r\n",
        "---\r\n",
        "\r\n"
      ]
    }
  ]
}